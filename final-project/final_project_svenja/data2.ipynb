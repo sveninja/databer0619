{
 "cells": [
  {
   "cell_type": "code",
   "execution_count": 54,
   "metadata": {},
   "outputs": [],
   "source": [
    "import pandas as pd"
   ]
  },
  {
   "cell_type": "code",
   "execution_count": 55,
   "metadata": {},
   "outputs": [],
   "source": [
    "data = pd.read_csv(\"meteorite-landings.csv\")"
   ]
  },
  {
   "cell_type": "code",
   "execution_count": 56,
   "metadata": {},
   "outputs": [
    {
     "data": {
      "text/plain": [
       "pandas.core.frame.DataFrame"
      ]
     },
     "execution_count": 56,
     "metadata": {},
     "output_type": "execute_result"
    }
   ],
   "source": [
    "type(data)"
   ]
  },
  {
   "cell_type": "code",
   "execution_count": 57,
   "metadata": {},
   "outputs": [
    {
     "data": {
      "text/html": [
       "<div>\n",
       "<style scoped>\n",
       "    .dataframe tbody tr th:only-of-type {\n",
       "        vertical-align: middle;\n",
       "    }\n",
       "\n",
       "    .dataframe tbody tr th {\n",
       "        vertical-align: top;\n",
       "    }\n",
       "\n",
       "    .dataframe thead th {\n",
       "        text-align: right;\n",
       "    }\n",
       "</style>\n",
       "<table border=\"1\" class=\"dataframe\">\n",
       "  <thead>\n",
       "    <tr style=\"text-align: right;\">\n",
       "      <th></th>\n",
       "      <th>name</th>\n",
       "      <th>id</th>\n",
       "      <th>nametype</th>\n",
       "      <th>recclass</th>\n",
       "      <th>mass</th>\n",
       "      <th>fall</th>\n",
       "      <th>year</th>\n",
       "      <th>reclat</th>\n",
       "      <th>reclong</th>\n",
       "      <th>GeoLocation</th>\n",
       "    </tr>\n",
       "  </thead>\n",
       "  <tbody>\n",
       "    <tr>\n",
       "      <th>0</th>\n",
       "      <td>Aachen</td>\n",
       "      <td>1</td>\n",
       "      <td>Valid</td>\n",
       "      <td>L5</td>\n",
       "      <td>21.0</td>\n",
       "      <td>Fell</td>\n",
       "      <td>1880.0</td>\n",
       "      <td>50.77500</td>\n",
       "      <td>6.08333</td>\n",
       "      <td>(50.775000, 6.083330)</td>\n",
       "    </tr>\n",
       "    <tr>\n",
       "      <th>1</th>\n",
       "      <td>Aarhus</td>\n",
       "      <td>2</td>\n",
       "      <td>Valid</td>\n",
       "      <td>H6</td>\n",
       "      <td>720.0</td>\n",
       "      <td>Fell</td>\n",
       "      <td>1951.0</td>\n",
       "      <td>56.18333</td>\n",
       "      <td>10.23333</td>\n",
       "      <td>(56.183330, 10.233330)</td>\n",
       "    </tr>\n",
       "    <tr>\n",
       "      <th>2</th>\n",
       "      <td>Abee</td>\n",
       "      <td>6</td>\n",
       "      <td>Valid</td>\n",
       "      <td>EH4</td>\n",
       "      <td>107000.0</td>\n",
       "      <td>Fell</td>\n",
       "      <td>1952.0</td>\n",
       "      <td>54.21667</td>\n",
       "      <td>-113.00000</td>\n",
       "      <td>(54.216670, -113.000000)</td>\n",
       "    </tr>\n",
       "    <tr>\n",
       "      <th>3</th>\n",
       "      <td>Acapulco</td>\n",
       "      <td>10</td>\n",
       "      <td>Valid</td>\n",
       "      <td>Acapulcoite</td>\n",
       "      <td>1914.0</td>\n",
       "      <td>Fell</td>\n",
       "      <td>1976.0</td>\n",
       "      <td>16.88333</td>\n",
       "      <td>-99.90000</td>\n",
       "      <td>(16.883330, -99.900000)</td>\n",
       "    </tr>\n",
       "    <tr>\n",
       "      <th>4</th>\n",
       "      <td>Achiras</td>\n",
       "      <td>370</td>\n",
       "      <td>Valid</td>\n",
       "      <td>L6</td>\n",
       "      <td>780.0</td>\n",
       "      <td>Fell</td>\n",
       "      <td>1902.0</td>\n",
       "      <td>-33.16667</td>\n",
       "      <td>-64.95000</td>\n",
       "      <td>(-33.166670, -64.950000)</td>\n",
       "    </tr>\n",
       "  </tbody>\n",
       "</table>\n",
       "</div>"
      ],
      "text/plain": [
       "       name   id nametype     recclass      mass  fall    year    reclat  \\\n",
       "0    Aachen    1    Valid           L5      21.0  Fell  1880.0  50.77500   \n",
       "1    Aarhus    2    Valid           H6     720.0  Fell  1951.0  56.18333   \n",
       "2      Abee    6    Valid          EH4  107000.0  Fell  1952.0  54.21667   \n",
       "3  Acapulco   10    Valid  Acapulcoite    1914.0  Fell  1976.0  16.88333   \n",
       "4   Achiras  370    Valid           L6     780.0  Fell  1902.0 -33.16667   \n",
       "\n",
       "     reclong               GeoLocation  \n",
       "0    6.08333     (50.775000, 6.083330)  \n",
       "1   10.23333    (56.183330, 10.233330)  \n",
       "2 -113.00000  (54.216670, -113.000000)  \n",
       "3  -99.90000   (16.883330, -99.900000)  \n",
       "4  -64.95000  (-33.166670, -64.950000)  "
      ]
     },
     "execution_count": 57,
     "metadata": {},
     "output_type": "execute_result"
    }
   ],
   "source": [
    "data.head()"
   ]
  },
  {
   "cell_type": "code",
   "execution_count": 58,
   "metadata": {},
   "outputs": [],
   "source": [
    "# data = pd.DataFrame.from_dict(data)"
   ]
  },
  {
   "cell_type": "code",
   "execution_count": 59,
   "metadata": {},
   "outputs": [],
   "source": [
    "# data.head()"
   ]
  },
  {
   "cell_type": "code",
   "execution_count": 60,
   "metadata": {},
   "outputs": [
    {
     "name": "stdout",
     "output_type": "stream",
     "text": [
      "<class 'pandas.core.frame.DataFrame'>\n",
      "RangeIndex: 45716 entries, 0 to 45715\n",
      "Data columns (total 10 columns):\n",
      "name           45716 non-null object\n",
      "id             45716 non-null int64\n",
      "nametype       45716 non-null object\n",
      "recclass       45716 non-null object\n",
      "mass           45585 non-null float64\n",
      "fall           45716 non-null object\n",
      "year           45428 non-null float64\n",
      "reclat         38401 non-null float64\n",
      "reclong        38401 non-null float64\n",
      "GeoLocation    38401 non-null object\n",
      "dtypes: float64(4), int64(1), object(5)\n",
      "memory usage: 3.5+ MB\n"
     ]
    }
   ],
   "source": [
    "data.info()"
   ]
  },
  {
   "cell_type": "code",
   "execution_count": 61,
   "metadata": {},
   "outputs": [
    {
     "data": {
      "text/plain": [
       "pandas.core.series.Series"
      ]
     },
     "execution_count": 61,
     "metadata": {},
     "output_type": "execute_result"
    }
   ],
   "source": [
    "type(data.GeoLocation)"
   ]
  },
  {
   "cell_type": "code",
   "execution_count": 62,
   "metadata": {},
   "outputs": [
    {
     "data": {
      "text/plain": [
       "0           (50.775000, 6.083330)\n",
       "1          (56.183330, 10.233330)\n",
       "2        (54.216670, -113.000000)\n",
       "3         (16.883330, -99.900000)\n",
       "4        (-33.166670, -64.950000)\n",
       "5          (32.100000, 71.800000)\n",
       "6          (44.833330, 95.166670)\n",
       "7           (44.216670, 0.616670)\n",
       "8        (-31.600000, -65.233330)\n",
       "9        (-30.866670, -64.550000)\n",
       "10         (16.398060, -9.570280)\n",
       "11          (19.083330, 8.383330)\n",
       "12          (50.666670, 2.333330)\n",
       "13         (29.516670, 35.050000)\n",
       "14         (29.716670, 77.950000)\n",
       "15           (8.916670, 8.433330)\n",
       "16         (39.916670, 42.816670)\n",
       "17         (24.416670, 39.516670)\n",
       "18         (13.660330, 28.960000)\n",
       "19          (44.116670, 4.083330)\n",
       "20         (44.650000, 11.016670)\n",
       "21          (2.000000, 22.666670)\n",
       "22          (45.821330, 6.015330)\n",
       "23         (51.783330, -1.783330)\n",
       "24         (36.233330, 37.133330)\n",
       "25          (44.883330, 8.750000)\n",
       "26         (50.950000, 31.816670)\n",
       "27         (45.266670, 10.150000)\n",
       "28        (42.533330, -85.883330)\n",
       "29       (26.966670, -105.316670)\n",
       "                   ...           \n",
       "45686    (31.650000, -106.183330)\n",
       "45687    (34.819700, -114.276100)\n",
       "45688    (34.826580, -114.277630)\n",
       "45689    (34.819230, -114.277350)\n",
       "45690     (60.000000, 140.000000)\n",
       "45691    (22.816670, -102.566670)\n",
       "45692                         NaN\n",
       "45693     (35.000000, -94.750000)\n",
       "45694      (27.333330, -9.333330)\n",
       "45695      (30.366670, -5.850000)\n",
       "45696      (50.762780, 22.866110)\n",
       "45697    (25.009440, -100.750000)\n",
       "45698     (27.000000, -99.000000)\n",
       "45699     (18.333330, -97.500000)\n",
       "45700      (41.650000, -0.866670)\n",
       "45701      (29.750000, -4.500000)\n",
       "45702       (32.158330, 4.633330)\n",
       "45703     (42.513330, -88.489440)\n",
       "45704     (20.250000, -12.683330)\n",
       "45705      (29.858610, -2.645000)\n",
       "45706      (52.133330, 81.966670)\n",
       "45707     (24.233330, 111.183330)\n",
       "45708     (68.000000, 128.300000)\n",
       "45709     (31.200000, 112.500000)\n",
       "45710      (29.037000, 17.018500)\n",
       "45711      (29.037000, 17.018500)\n",
       "45712       (13.783330, 8.966670)\n",
       "45713      (49.250000, 17.666670)\n",
       "45714      (49.789170, 41.504600)\n",
       "45715    (33.983330, -115.683330)\n",
       "Name: GeoLocation, Length: 45716, dtype: object"
      ]
     },
     "execution_count": 62,
     "metadata": {},
     "output_type": "execute_result"
    }
   ],
   "source": [
    "data.GeoLocation"
   ]
  },
  {
   "cell_type": "code",
   "execution_count": 63,
   "metadata": {},
   "outputs": [
    {
     "ename": "TypeError",
     "evalue": "zip argument #148 must support iteration",
     "output_type": "error",
     "traceback": [
      "\u001b[0;31m---------------------------------------------------------------------------\u001b[0m",
      "\u001b[0;31mTypeError\u001b[0m                                 Traceback (most recent call last)",
      "\u001b[0;32m<ipython-input-63-209db4218d9f>\u001b[0m in \u001b[0;36m<module>\u001b[0;34m\u001b[0m\n\u001b[1;32m      1\u001b[0m \u001b[0;31m# df['A.x'], df['A.y'] = zip(*df.A)\u001b[0m\u001b[0;34m\u001b[0m\u001b[0;34m\u001b[0m\u001b[0;34m\u001b[0m\u001b[0m\n\u001b[1;32m      2\u001b[0m \u001b[0;34m\u001b[0m\u001b[0m\n\u001b[0;32m----> 3\u001b[0;31m \u001b[0mdata\u001b[0m\u001b[0;34m[\u001b[0m\u001b[0;34m'GeoLocation.longitude'\u001b[0m\u001b[0;34m]\u001b[0m\u001b[0;34m,\u001b[0m \u001b[0mdata\u001b[0m\u001b[0;34m[\u001b[0m\u001b[0;34m'GeoLocation.latitude'\u001b[0m\u001b[0;34m]\u001b[0m \u001b[0;34m=\u001b[0m \u001b[0mzip\u001b[0m\u001b[0;34m(\u001b[0m\u001b[0;34m*\u001b[0m\u001b[0mdata\u001b[0m\u001b[0;34m.\u001b[0m\u001b[0mGeoLocation\u001b[0m\u001b[0;34m)\u001b[0m\u001b[0;34m\u001b[0m\u001b[0;34m\u001b[0m\u001b[0m\n\u001b[0m",
      "\u001b[0;31mTypeError\u001b[0m: zip argument #148 must support iteration"
     ]
    }
   ],
   "source": [
    "# df['A.x'], df['A.y'] = zip(*df.A)\n",
    "\n",
    "data['GeoLocation.longitude'], data['GeoLocation.latitude'] = zip(*data.GeoLocation)"
   ]
  },
  {
   "cell_type": "code",
   "execution_count": 53,
   "metadata": {},
   "outputs": [
    {
     "ename": "TypeError",
     "evalue": "'Series' object is not callable",
     "output_type": "error",
     "traceback": [
      "\u001b[0;31m---------------------------------------------------------------------------\u001b[0m",
      "\u001b[0;31mTypeError\u001b[0m                                 Traceback (most recent call last)",
      "\u001b[0;32m<ipython-input-53-0e0e92df8778>\u001b[0m in \u001b[0;36m<module>\u001b[0;34m\u001b[0m\n\u001b[1;32m      3\u001b[0m \u001b[0;31m# df = pd.DataFrame(list_of_tuples, columns = ['Name', 'Age'])\u001b[0m\u001b[0;34m\u001b[0m\u001b[0;34m\u001b[0m\u001b[0;34m\u001b[0m\u001b[0m\n\u001b[1;32m      4\u001b[0m \u001b[0;34m\u001b[0m\u001b[0m\n\u001b[0;32m----> 5\u001b[0;31m \u001b[0mdata2\u001b[0m \u001b[0;34m=\u001b[0m \u001b[0mdata\u001b[0m\u001b[0;34m[\u001b[0m\u001b[0;34m'GeoLocation'\u001b[0m\u001b[0;34m]\u001b[0m\u001b[0;34m(\u001b[0m\u001b[0mcolumns\u001b[0m \u001b[0;34m=\u001b[0m \u001b[0;34m[\u001b[0m\u001b[0;34m'long'\u001b[0m\u001b[0;34m,\u001b[0m \u001b[0;34m'lat'\u001b[0m\u001b[0;34m]\u001b[0m\u001b[0;34m)\u001b[0m\u001b[0;34m\u001b[0m\u001b[0;34m\u001b[0m\u001b[0m\n\u001b[0m",
      "\u001b[0;31mTypeError\u001b[0m: 'Series' object is not callable"
     ]
    }
   ],
   "source": [
    "# # Converting lists of tuples into \n",
    "# # pandas Dataframe. \n",
    "# df = pd.DataFrame(list_of_tuples, columns = ['Name', 'Age']) \n",
    "\n",
    "data2 = data['GeoLocation'](columns = ['long', 'lat'])"
   ]
  },
  {
   "cell_type": "code",
   "execution_count": 65,
   "metadata": {},
   "outputs": [
    {
     "data": {
      "text/html": [
       "<div>\n",
       "<style scoped>\n",
       "    .dataframe tbody tr th:only-of-type {\n",
       "        vertical-align: middle;\n",
       "    }\n",
       "\n",
       "    .dataframe tbody tr th {\n",
       "        vertical-align: top;\n",
       "    }\n",
       "\n",
       "    .dataframe thead th {\n",
       "        text-align: right;\n",
       "    }\n",
       "</style>\n",
       "<table border=\"1\" class=\"dataframe\">\n",
       "  <thead>\n",
       "    <tr style=\"text-align: right;\">\n",
       "      <th></th>\n",
       "      <th>name</th>\n",
       "      <th>id</th>\n",
       "      <th>nametype</th>\n",
       "      <th>recclass</th>\n",
       "      <th>mass</th>\n",
       "      <th>fall</th>\n",
       "      <th>year</th>\n",
       "      <th>reclat</th>\n",
       "      <th>reclong</th>\n",
       "      <th>GeoLocation</th>\n",
       "    </tr>\n",
       "  </thead>\n",
       "  <tbody>\n",
       "    <tr>\n",
       "      <th>147</th>\n",
       "      <td>Bulls Run</td>\n",
       "      <td>5163</td>\n",
       "      <td>Valid</td>\n",
       "      <td>Iron?</td>\n",
       "      <td>2250.0</td>\n",
       "      <td>Fell</td>\n",
       "      <td>1964.0</td>\n",
       "      <td>NaN</td>\n",
       "      <td>NaN</td>\n",
       "      <td>NaN</td>\n",
       "    </tr>\n",
       "    <tr>\n",
       "      <th>148</th>\n",
       "      <td>Bunburra Rockhole</td>\n",
       "      <td>48653</td>\n",
       "      <td>Valid</td>\n",
       "      <td>Eucrite</td>\n",
       "      <td>324.0</td>\n",
       "      <td>Fell</td>\n",
       "      <td>2007.0</td>\n",
       "      <td>-31.35000</td>\n",
       "      <td>129.19000</td>\n",
       "      <td>(-31.350000, 129.190000)</td>\n",
       "    </tr>\n",
       "    <tr>\n",
       "      <th>149</th>\n",
       "      <td>Bununu</td>\n",
       "      <td>5165</td>\n",
       "      <td>Valid</td>\n",
       "      <td>Howardite</td>\n",
       "      <td>357.0</td>\n",
       "      <td>Fell</td>\n",
       "      <td>1942.0</td>\n",
       "      <td>10.01667</td>\n",
       "      <td>9.58333</td>\n",
       "      <td>(10.016670, 9.583330)</td>\n",
       "    </tr>\n",
       "    <tr>\n",
       "      <th>150</th>\n",
       "      <td>Bur-Gheluai</td>\n",
       "      <td>5169</td>\n",
       "      <td>Valid</td>\n",
       "      <td>H5</td>\n",
       "      <td>120000.0</td>\n",
       "      <td>Fell</td>\n",
       "      <td>1919.0</td>\n",
       "      <td>5.00000</td>\n",
       "      <td>48.00000</td>\n",
       "      <td>(5.000000, 48.000000)</td>\n",
       "    </tr>\n",
       "  </tbody>\n",
       "</table>\n",
       "</div>"
      ],
      "text/plain": [
       "                  name     id nametype   recclass      mass  fall    year  \\\n",
       "147          Bulls Run   5163    Valid      Iron?    2250.0  Fell  1964.0   \n",
       "148  Bunburra Rockhole  48653    Valid    Eucrite     324.0  Fell  2007.0   \n",
       "149             Bununu   5165    Valid  Howardite     357.0  Fell  1942.0   \n",
       "150        Bur-Gheluai   5169    Valid         H5  120000.0  Fell  1919.0   \n",
       "\n",
       "       reclat    reclong               GeoLocation  \n",
       "147       NaN        NaN                       NaN  \n",
       "148 -31.35000  129.19000  (-31.350000, 129.190000)  \n",
       "149  10.01667    9.58333     (10.016670, 9.583330)  \n",
       "150   5.00000   48.00000     (5.000000, 48.000000)  "
      ]
     },
     "execution_count": 65,
     "metadata": {},
     "output_type": "execute_result"
    }
   ],
   "source": [
    "data.loc[147:150]"
   ]
  },
  {
   "cell_type": "code",
   "execution_count": 18,
   "metadata": {},
   "outputs": [],
   "source": [
    "import requests\n",
    "\n",
    "from shapely.geometry import mapping, shape\n",
    "from shapely.prepared import prep\n",
    "from shapely.geometry import Point"
   ]
  },
  {
   "cell_type": "code",
   "execution_count": 19,
   "metadata": {},
   "outputs": [
    {
     "name": "stdout",
     "output_type": "stream",
     "text": [
      "255\n",
      "Austria\n"
     ]
    }
   ],
   "source": [
    "data = requests.get(\"https://raw.githubusercontent.com/datasets/geo-countries/master/data/countries.geojson\").json()\n",
    "\n",
    "countries = {}\n",
    "for feature in data[\"features\"]:\n",
    "    geom = feature[\"geometry\"]\n",
    "    country = feature[\"properties\"][\"ADMIN\"]\n",
    "    countries[country] = prep(shape(geom))\n",
    "\n",
    "print(len(countries))\n",
    "\n",
    "def get_country(lon, lat):\n",
    "    point = Point(lon, lat)\n",
    "    for country, geom in countries.items():\n",
    "        if geom.contains(point):\n",
    "            return country\n",
    "\n",
    "    return \"unknown\"\n",
    "\n",
    "print(get_country(10.0, 47.0))"
   ]
  },
  {
   "cell_type": "code",
   "execution_count": 20,
   "metadata": {},
   "outputs": [
    {
     "name": "stdout",
     "output_type": "stream",
     "text": [
      "Potsdamer Platz, Tiergarten, Mitte, Berlin, 10785, Deutschland\n",
      "(52.5098014, 13.3755897912911)\n",
      "{'place_id': 198746248, 'licence': 'Data © OpenStreetMap contributors, ODbL 1.0. https://osm.org/copyright', 'osm_type': 'relation', 'osm_id': 3200536, 'lat': '52.5098014', 'lon': '13.3755897912911', 'display_name': 'Potsdamer Platz, Tiergarten, Mitte, Berlin, 10785, Deutschland', 'address': {'attraction': 'Potsdamer Platz', 'footway': 'Potsdamer Platz', 'suburb': 'Tiergarten', 'city_district': 'Mitte', 'city': 'Berlin', 'postcode': '10785', 'country': 'Deutschland', 'country_code': 'de'}, 'boundingbox': ['52.5082999', '52.5100374', '13.3750548', '13.3769528']}\n"
     ]
    }
   ],
   "source": [
    "from geopy.geocoders import Nominatim\n",
    "geolocator = Nominatim(user_agent=\"specify_your_app_name_here\")\n",
    "location = geolocator.reverse(\"52.509669, 13.376294\")\n",
    "print(location.address)\n",
    "# Potsdamer Platz, Mitte, Berlin, 10117, Deutschland, European Union\n",
    "print((location.latitude, location.longitude))\n",
    "# (52.5094982, 13.3765983)\n",
    "print(location.raw)\n",
    "# {'place_id': '654513', 'osm_type': 'node', ...}"
   ]
  },
  {
   "cell_type": "code",
   "execution_count": null,
   "metadata": {},
   "outputs": [],
   "source": [
    "data.country = "
   ]
  }
 ],
 "metadata": {
  "kernelspec": {
   "display_name": "Python 3",
   "language": "python",
   "name": "python3"
  },
  "language_info": {
   "codemirror_mode": {
    "name": "ipython",
    "version": 3
   },
   "file_extension": ".py",
   "mimetype": "text/x-python",
   "name": "python",
   "nbconvert_exporter": "python",
   "pygments_lexer": "ipython3",
   "version": "3.7.3"
  }
 },
 "nbformat": 4,
 "nbformat_minor": 2
}
