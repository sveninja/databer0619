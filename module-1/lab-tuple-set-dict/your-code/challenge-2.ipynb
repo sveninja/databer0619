{
 "cells": [
  {
   "cell_type": "markdown",
   "metadata": {},
   "source": [
    "## Challenge 2: Sets\n",
    "\n",
    "There are a lot to learn about Python Sets and the information presented in the lesson is limited due to its length. To learn Python Sets in depth you are strongly encouraged to review the W3Schools tutorial on [Python Sets Examples and Methods](https://www.w3schools.com/python/python_sets.asp) before you work on this lab. Some difficult questions in this lab have their solutions in the W3Schools tutorial.\n",
    "\n",
    "#### First, import the Python `random` libary"
   ]
  },
  {
   "cell_type": "code",
   "execution_count": 1,
   "metadata": {},
   "outputs": [],
   "source": [
    "import random"
   ]
  },
  {
   "cell_type": "markdown",
   "metadata": {},
   "source": [
    "#### In the cell below, create a list named `sample_list_1` with 80 random values. \n",
    "\n",
    "Requirements:\n",
    "\n",
    "* Each value is an integer falling between 0 and 100.\n",
    "* Each value in the list is unique.\n",
    "\n",
    "Print `sample_list_1` to review its values\n",
    "\n",
    "*Hint: use `random.sample` ([reference](https://docs.python.org/3/library/random.html#random.sample)).*"
   ]
  },
  {
   "cell_type": "code",
   "execution_count": 5,
   "metadata": {},
   "outputs": [
    {
     "name": "stdout",
     "output_type": "stream",
     "text": [
      "[53, 34, 49, 58, 50, 64, 23, 46, 52, 12, 19, 81, 89, 79, 69, 31, 70, 77, 47, 26, 96, 67, 13, 1, 0, 11, 39, 6, 24, 42, 59, 16, 20, 2, 75, 9, 22, 33, 85, 72, 18, 93, 30, 48, 32, 29, 44, 14, 60, 66, 68, 63, 27, 45, 56, 40, 78, 83, 3, 92, 5, 82, 73, 51, 98, 57, 74, 86, 15, 25, 17, 84, 21, 4, 61, 28, 87, 91, 80, 37]\n",
      "80\n"
     ]
    }
   ],
   "source": [
    "sample_list_1 = random.sample(range(100), 80)\n",
    "print(sample_list_1)\n",
    "print(len(sample_list_1))\n"
   ]
  },
  {
   "cell_type": "markdown",
   "metadata": {},
   "source": [
    "#### Convert `sample_list_1` to a set called `set1`. Print the length of the set. Is its length still 80?"
   ]
  },
  {
   "cell_type": "code",
   "execution_count": 18,
   "metadata": {},
   "outputs": [
    {
     "name": "stdout",
     "output_type": "stream",
     "text": [
      "{0, 1, 2, 3, 4, 5, 6, 9, 11, 12, 13, 14, 15, 16, 17, 18, 19, 20, 21, 22, 23, 24, 25, 26, 27, 28, 29, 30, 31, 32, 33, 34, 37, 39, 40, 42, 44, 45, 46, 47, 48, 49, 50, 51, 52, 53, 56, 57, 58, 59, 60, 61, 63, 64, 66, 67, 68, 69, 70, 72, 73, 74, 75, 77, 78, 79, 80, 81, 82, 83, 84, 85, 86, 87, 89, 91, 92, 93, 96, 98}\n",
      "80\n",
      "<class 'set'>\n"
     ]
    }
   ],
   "source": [
    "sample_list_1 = set(sample_list_1)\n",
    "print(sample_list_1)\n",
    "print(len(sample_list_1))\n",
    "print(type(sample_list_1))"
   ]
  },
  {
   "cell_type": "markdown",
   "metadata": {},
   "source": [
    "#### Create another list named `sample_list_2` with 80 random values.\n",
    "\n",
    "Requirements:\n",
    "\n",
    "* Each value is an integer falling between 0 and 100.\n",
    "* The values in the list don't have to be unique.\n",
    "\n",
    "*Hint: Use a FOR loop.*"
   ]
  },
  {
   "cell_type": "code",
   "execution_count": 17,
   "metadata": {},
   "outputs": [
    {
     "name": "stdout",
     "output_type": "stream",
     "text": [
      "[[28], [92], [60], [63], [61], [45], [77], [58], [23], [69], [66], [16], [51], [48], [53], [97], [70], [9], [78], [40], [43], [62], [31], [74], [36], [23], [48], [37], [59], [45], [94], [36], [32], [28], [77], [91], [47], [60], [58], [70], [76], [86], [21], [82], [40], [17], [63], [26], [8], [70], [26], [46], [7], [21], [52], [97], [21], [62], [62], [54], [26], [72], [9], [47], [52], [58], [38], [22], [38], [97], [31], [44], [88], [13], [42], [80], [7], [91], [12], [59]]\n"
     ]
    }
   ],
   "source": [
    "sample_list_2 = []\n",
    "\n",
    "count = 0\n",
    "while True:\n",
    "    new_number = random.sample(range(100), 1)\n",
    "    sample_list_2.append(new_number)\n",
    "    count += 1\n",
    "    if count == 80:\n",
    "        break\n",
    "\n",
    "print(sample_list_2)    \n",
    "\n"
   ]
  },
  {
   "cell_type": "code",
   "execution_count": 24,
   "metadata": {},
   "outputs": [
    {
     "name": "stdout",
     "output_type": "stream",
     "text": [
      "[21, 45, 41, 94, 19, 93, 75, 8, 51, 94, 13, 79, 35, 59, 77, 15, 36, 31, 1, 52, 96, 54, 59, 48, 48, 29, 64, 35, 81, 75, 77, 35, 6, 52, 21, 64, 46, 43, 75, 46, 77, 66, 90, 2, 95, 64, 74, 23, 19, 28, 25, 9, 46, 91, 46, 40, 3, 13, 42, 64, 78, 19, 14, 37, 46, 74, 46, 57, 42, 77, 34, 63, 65, 69, 96, 9, 49, 48, 68, 8]\n"
     ]
    }
   ],
   "source": [
    "number = []\n",
    "\n",
    "for i in range(80):\n",
    "    number.append(random.randint(0, 100))\n",
    "\n",
    "\n",
    "print(number)"
   ]
  },
  {
   "cell_type": "code",
   "execution_count": 34,
   "metadata": {},
   "outputs": [
    {
     "name": "stdout",
     "output_type": "stream",
     "text": [
      "[41, 66, 78, 14, 82, 48, 15, 84, 70, 62, 13, 96, 9, 41, 90, 72, 34, 13, 10, 48, 13, 44, 22, 11, 59, 31, 47, 17, 33, 44, 76, 41, 56, 54, 92, 60, 11, 58, 96, 73, 94, 98, 33, 30, 13, 9, 26, 100, 95, 63, 40, 5, 15, 0, 1, 1, 9, 71, 7, 20, 58, 36, 53, 68, 42, 16, 8, 7, 7, 40, 51, 20, 68, 13, 59, 51, 4, 87, 87, 59]\n",
      "80\n"
     ]
    }
   ],
   "source": [
    "number = [random.randint(0, 100) for i in range(80)]\n",
    "\n",
    "print(number)\n",
    "print(len(number))"
   ]
  },
  {
   "cell_type": "code",
   "execution_count": 82,
   "metadata": {},
   "outputs": [
    {
     "name": "stdout",
     "output_type": "stream",
     "text": [
      "[91, 11, 95, 1, 54, 46, 95, 93, 19, 73, 2, 73, 8, 68, 6, 49, 89, 76, 19, 57, 55, 25, 26, 73, 79, 90, 63, 83, 19, 45, 20, 50, 66, 20, 31, 81, 0, 2, 7, 57, 82, 44, 85, 17, 49, 47, 7, 10, 70, 52, 78, 10, 85, 76, 1, 90, 19, 21, 6, 36, 58, 29, 5, 11, 75, 21, 25, 10, 2, 72, 49, 81, 77, 51, 2, 12, 98, 59, 91, 37]\n"
     ]
    }
   ],
   "source": [
    "number = []\n",
    "p = range(0, 100)\n",
    "\n",
    "for i in range(80):\n",
    "    number.append(random.sample(p,1)[0]) # making lots of lists with one element\n",
    "\n",
    "print(number)"
   ]
  },
  {
   "cell_type": "code",
   "execution_count": 84,
   "metadata": {},
   "outputs": [
    {
     "name": "stdout",
     "output_type": "stream",
     "text": [
      "[95, 43, 35, 26, 89, 98, 89, 63, 13, 49, 41, 35, 50, 39, 84, 79, 0, 0, 60, 83, 99, 58, 87, 10, 65, 35, 1, 50, 35, 8, 95, 79, 66, 54, 22, 32, 17, 73, 47, 54, 0, 17, 38, 53, 89, 6, 73, 67, 85, 30, 91, 98, 67, 59, 59, 2, 23, 99, 65, 79, 89, 98, 59, 95, 23, 53, 61, 59, 87, 58, 90, 9, 10, 94, 5, 75, 65, 24, 68, 81]\n"
     ]
    }
   ],
   "source": [
    "sample_list_2 = [random.randrange(100) for i in range (80)]\n",
    "print(sample_list_2)"
   ]
  },
  {
   "cell_type": "markdown",
   "metadata": {},
   "source": [
    "#### Convert `sample_list_2` to a set called `set2`. Print the length of the set. Is its length still 80?"
   ]
  },
  {
   "cell_type": "code",
   "execution_count": 86,
   "metadata": {},
   "outputs": [
    {
     "name": "stdout",
     "output_type": "stream",
     "text": [
      "54\n"
     ]
    }
   ],
   "source": [
    "set2 = set(number)\n",
    "print(len(set2))"
   ]
  },
  {
   "cell_type": "markdown",
   "metadata": {},
   "source": [
    "#### Identify the elements present in `set1` but not in `set2`. Assign the elements to a new set named `set3`."
   ]
  },
  {
   "cell_type": "code",
   "execution_count": 87,
   "metadata": {},
   "outputs": [
    {
     "name": "stdout",
     "output_type": "stream",
     "text": [
      "{3, 4, 13, 14, 15, 16, 18, 22, 23, 24, 27, 28, 30, 32, 33, 34, 40, 42, 48, 53, 56, 60, 64, 67, 74, 80, 84, 86, 87, 92, 96}\n"
     ]
    }
   ],
   "source": [
    "set1 = sample_list_1\n",
    "set3 = (set1 - set2)\n",
    "print(set3)\n"
   ]
  },
  {
   "cell_type": "markdown",
   "metadata": {},
   "source": [
    "#### Identify the elements present in `set2` but not in `set1`. Assign the elements to a new set named `set4`."
   ]
  },
  {
   "cell_type": "code",
   "execution_count": 88,
   "metadata": {},
   "outputs": [
    {
     "name": "stdout",
     "output_type": "stream",
     "text": [
      "{0, 1, 7, 8, 10, 11, 19, 21, 29, 31, 36, 49, 51, 54, 55, 59, 76, 79, 81, 89, 90, 91, 95}\n"
     ]
    }
   ],
   "source": [
    "set4 = (set2 - set1)\n",
    "print(set4)\n"
   ]
  },
  {
   "cell_type": "markdown",
   "metadata": {},
   "source": [
    "#### Now Identify the elements shared between `set1` and `set2`. Assign the elements to a new set named `set5`."
   ]
  },
  {
   "cell_type": "code",
   "execution_count": 89,
   "metadata": {},
   "outputs": [
    {
     "name": "stdout",
     "output_type": "stream",
     "text": [
      "{2, 5, 6, 12, 17, 20, 25, 26, 37, 44, 45, 46, 47, 50, 52, 57, 58, 63, 66, 68, 70, 72, 73, 75, 77, 78, 82, 83, 85, 93, 98}\n"
     ]
    }
   ],
   "source": [
    "set5 = set(x for x in set1 if x in set2)\n",
    "print(set5)"
   ]
  },
  {
   "cell_type": "markdown",
   "metadata": {},
   "source": [
    "#### What is the relationship among the following values:\n",
    "\n",
    "* len(set1)\n",
    "* len(set2)\n",
    "* len(set3)\n",
    "* len(set4)\n",
    "* len(set5)\n",
    "\n",
    "Use a math formular to represent that relationship. Test your formular with Python code."
   ]
  },
  {
   "cell_type": "code",
   "execution_count": 78,
   "metadata": {},
   "outputs": [
    {
     "name": "stdout",
     "output_type": "stream",
     "text": [
      "62\n",
      "55\n",
      "38\n",
      "13\n",
      "55\n",
      "True\n",
      "True\n",
      "True\n",
      "True\n"
     ]
    }
   ],
   "source": [
    "print(len(set1))\n",
    "print(len(set2))\n",
    "print(len(set3))\n",
    "print(len(set4))\n",
    "print(len(set5))\n",
    "# len(set2) - len(set1) == len(set4)\n",
    "#len(set1) - len(set2) == len(set3)\n",
    "\n",
    "# len(set1) == len(set2) + len(set4) - len(set3)\n",
    "# len(set1) == len(set5) + len(set4) - len(set3)\n",
    "\n",
    "print(len(set1) > len(set2))\n",
    "print(len(set2) > len(set3))\n",
    "print(len(set3) > len(set4))\n",
    "print(len(set2) == len(set5))"
   ]
  },
  {
   "cell_type": "markdown",
   "metadata": {},
   "source": [
    "#### Create an empty set called `set6`."
   ]
  },
  {
   "cell_type": "code",
   "execution_count": 90,
   "metadata": {},
   "outputs": [
    {
     "data": {
      "text/plain": [
       "set"
      ]
     },
     "execution_count": 90,
     "metadata": {},
     "output_type": "execute_result"
    }
   ],
   "source": [
    "set6 = set()\n",
    "type(set6)"
   ]
  },
  {
   "cell_type": "markdown",
   "metadata": {},
   "source": [
    "#### Add `set3` and `set5` to `set6` using the Python Set `update` method."
   ]
  },
  {
   "cell_type": "code",
   "execution_count": 91,
   "metadata": {},
   "outputs": [
    {
     "name": "stdout",
     "output_type": "stream",
     "text": [
      "{2, 3, 4, 5, 6, 12, 13, 14, 15, 16, 17, 18, 20, 22, 23, 24, 25, 26, 27, 28, 30, 32, 33, 34, 37, 40, 42, 44, 45, 46, 47, 48, 50, 52, 53, 56, 57, 58, 60, 63, 64, 66, 67, 68, 70, 72, 73, 74, 75, 77, 78, 80, 82, 83, 84, 85, 86, 87, 92, 93, 96, 98}\n"
     ]
    }
   ],
   "source": [
    "set6.update(set3, set5)\n",
    "print(set6)\n",
    "\n",
    "# difference between union and update?\n"
   ]
  },
  {
   "cell_type": "markdown",
   "metadata": {},
   "source": [
    "#### Check if `set1` and `set6` are equal."
   ]
  },
  {
   "cell_type": "code",
   "execution_count": 92,
   "metadata": {},
   "outputs": [
    {
     "data": {
      "text/plain": [
       "True"
      ]
     },
     "execution_count": 92,
     "metadata": {},
     "output_type": "execute_result"
    }
   ],
   "source": [
    "set1 == set6\n"
   ]
  },
  {
   "cell_type": "markdown",
   "metadata": {},
   "source": [
    "#### Check if `set1` contains `set2` using the Python Set `issubset` method. Then check if `set1` contains `set3`.*"
   ]
  },
  {
   "cell_type": "code",
   "execution_count": 93,
   "metadata": {},
   "outputs": [
    {
     "name": "stdout",
     "output_type": "stream",
     "text": [
      "False\n",
      "True\n"
     ]
    }
   ],
   "source": [
    "# x = {\"a\", \"b\", \"c\"}\n",
    "# y = {\"f\", \"e\", \"d\", \"c\", \"b\", \"a\"}\n",
    "\n",
    "# z = x.issubset(y) \n",
    "\n",
    "# print(z)\n",
    "\n",
    "\n",
    "print(set2.issubset(set1))\n",
    "print(set3.issubset(set1))"
   ]
  },
  {
   "cell_type": "markdown",
   "metadata": {},
   "source": [
    "#### Using the Python Set `union` method, aggregate `set3`, `set4`, and `set5`. Then aggregate `set1` and `set2`. \n",
    "\n",
    "#### Check if the aggregated values are equal."
   ]
  },
  {
   "cell_type": "code",
   "execution_count": 96,
   "metadata": {},
   "outputs": [
    {
     "data": {
      "text/plain": [
       "True"
      ]
     },
     "execution_count": 96,
     "metadata": {},
     "output_type": "execute_result"
    }
   ],
   "source": [
    "set3.union(set4, set5) == set1.union(set2)"
   ]
  },
  {
   "cell_type": "markdown",
   "metadata": {},
   "source": [
    "#### Using the `pop` method, remove the first element from `set1`."
   ]
  },
  {
   "cell_type": "code",
   "execution_count": 66,
   "metadata": {},
   "outputs": [
    {
     "name": "stdout",
     "output_type": "stream",
     "text": [
      "{1, 2, 3, 4, 5, 6, 9, 11, 12, 13, 14, 15, 16, 17, 18, 19, 20, 21, 22, 23, 24, 25, 26, 27, 28, 29, 30, 31, 32, 33, 34, 37, 39, 40, 42, 44, 45, 46, 47, 48, 49, 50, 51, 52, 53, 56, 57, 58, 59, 60, 61, 63, 64, 66, 67, 68, 69, 70, 72, 73, 74, 75, 77, 78, 79, 80, 81, 82, 83, 84, 85, 86, 87, 89, 91, 92, 93, 96, 98}\n",
      "{2, 3, 4, 5, 6, 9, 11, 12, 13, 14, 15, 16, 17, 18, 19, 20, 21, 22, 23, 24, 25, 26, 27, 28, 29, 30, 31, 32, 33, 34, 37, 39, 40, 42, 44, 45, 46, 47, 48, 49, 50, 51, 52, 53, 56, 57, 58, 59, 60, 61, 63, 64, 66, 67, 68, 69, 70, 72, 73, 74, 75, 77, 78, 79, 80, 81, 82, 83, 84, 85, 86, 87, 89, 91, 92, 93, 96, 98}\n"
     ]
    }
   ],
   "source": [
    "print(set1)\n",
    "set1.pop()\n",
    "print(set1)"
   ]
  },
  {
   "cell_type": "markdown",
   "metadata": {},
   "source": [
    "#### Remove every element in the following list from `set1` if they are present in the set. Print the remaining elements.\n",
    "\n",
    "```\n",
    "list_to_remove = [1, 9, 11, 19, 21, 29, 31, 39, 41, 49, 51, 59, 61, 69, 71, 79, 81, 89, 91, 99]\n",
    "```"
   ]
  },
  {
   "cell_type": "code",
   "execution_count": 72,
   "metadata": {},
   "outputs": [
    {
     "name": "stdout",
     "output_type": "stream",
     "text": [
      "{2, 3, 4, 5, 6, 12, 13, 14, 15, 16, 17, 18, 20, 22, 23, 24, 25, 26, 27, 28, 30, 32, 33, 34, 37, 40, 42, 44, 45, 46, 47, 48, 50, 52, 53, 56, 57, 58, 60, 63, 64, 66, 67, 68, 70, 72, 73, 74, 75, 77, 78, 80, 82, 83, 84, 85, 86, 87, 92, 93, 96, 98}\n"
     ]
    }
   ],
   "source": [
    "list_to_remove = [1, 9, 11, 19, 21, 29, 31, 39, 41, 49, 51, 59, 61, 69, 71, 79, 81, 89, 91, 99]\n",
    "\n",
    "for number in list_to_remove:\n",
    "    if number in set1:\n",
    "        set1.remove(number)\n",
    "        \n",
    "print(set1)"
   ]
  },
  {
   "cell_type": "code",
   "execution_count": null,
   "metadata": {},
   "outputs": [],
   "source": []
  }
 ],
 "metadata": {
  "kernelspec": {
   "display_name": "Python 3",
   "language": "python",
   "name": "python3"
  },
  "language_info": {
   "codemirror_mode": {
    "name": "ipython",
    "version": 3
   },
   "file_extension": ".py",
   "mimetype": "text/x-python",
   "name": "python",
   "nbconvert_exporter": "python",
   "pygments_lexer": "ipython3",
   "version": "3.7.3"
  }
 },
 "nbformat": 4,
 "nbformat_minor": 2
}
