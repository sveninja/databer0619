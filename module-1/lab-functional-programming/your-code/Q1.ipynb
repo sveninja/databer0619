{
 "cells": [
  {
   "cell_type": "markdown",
   "metadata": {},
   "source": [
    "\n",
    "In the cell below, create a Python function that wraps your previous solution for the Bag of Words lab.\n",
    "\n",
    "Requirements:\n",
    "\n",
    "1. Your function should accept the following parameters:\n",
    "    * `docs` [REQUIRED] - array of document paths.\n",
    "    * `stop_words` [OPTIONAL] - array of stop words. The default value is an empty array.\n",
    "\n",
    "1. Your function should return a Python object that contains the following:\n",
    "    * `bag_of_words` - array of strings of normalized unique words in the corpus.\n",
    "    * `term_freq` - array of the term-frequency vectors."
   ]
  },
  {
   "cell_type": "code",
   "execution_count": 29,
   "metadata": {},
   "outputs": [
    {
     "data": {
      "text/plain": [
       "{'bag_of_words': ['ironhack',\n",
       "  'is',\n",
       "  'cool',\n",
       "  'i',\n",
       "  'love',\n",
       "  'am',\n",
       "  'a',\n",
       "  'student',\n",
       "  'at'],\n",
       " 'term_freq': [[1, 1, 1, 0, 0, 0, 0, 0, 0],\n",
       "  [1, 0, 0, 1, 1, 0, 0, 0, 0],\n",
       "  [1, 0, 0, 1, 0, 1, 1, 1, 1]]}"
      ]
     },
     "execution_count": 29,
     "metadata": {},
     "output_type": "execute_result"
    }
   ],
   "source": [
    "docs = ['../../lab-string-operations/your-code/doc1.txt',\n",
    "        '../../lab-string-operations/your-code/doc2.txt',\n",
    "        '../../lab-string-operations/your-code/doc3.txt']\n",
    "#stop_words = ['i', 'and', 'is', 'a', 'am', 'at']\n",
    "stop_words = []\n",
    "\n",
    "def get_bow_from_docs(docs, stop_words=[]):\n",
    "    \n",
    "    bag_of_words = []\n",
    "    corpus = []\n",
    "    term_freq = []\n",
    "    corpus2 = []\n",
    "    \n",
    "    for doc in docs:\n",
    "        text = open(doc, \"r\")\n",
    "        text2 = text.read()\n",
    "        corpus.append(text2)\n",
    "        text.close()\n",
    "        \n",
    "    for string in corpus:\n",
    "        if string[-1] ==\".\" or word[-1] == ',':\n",
    "            corpus2.append(string[:-1])\n",
    "            \n",
    "    # convert to lower case\n",
    "    corpus3 = []\n",
    "    for string in corpus2:\n",
    "        string = string.lower()\n",
    "        corpus3.append(string)\n",
    "    \n",
    "    # split strings into words\n",
    "    corpus4 = []\n",
    "\n",
    "    for string in corpus3:\n",
    "        word = string.split()\n",
    "        corpus4.append(word)\n",
    "\n",
    "    # add to bag_of_words\n",
    "\n",
    "    for string in corpus4:\n",
    "        for word in string:\n",
    "            if word not in stop_words and word not in bag_of_words:\n",
    "                bag_of_words.append(word)\n",
    "    #print(bag_of_words)\n",
    "\n",
    "    for string in corpus4:\n",
    "\n",
    "        sub_list = []\n",
    "        for word in bag_of_words:\n",
    "            count = 0\n",
    "            if word in string:\n",
    "                count += 1\n",
    "            else:\n",
    "                count += 0\n",
    "            sub_list.append(count)\n",
    "            #print(sub_list)\n",
    "        term_freq.append(sub_list)\n",
    "    \n",
    "    return {\n",
    "    \"bag_of_words\": bag_of_words,\n",
    "    \"term_freq\": term_freq\n",
    "    }\n",
    "\n",
    "#get_bow_from_docs(docs, stop_words=[])\n",
    "get_bow_from_docs(docs)"
   ]
  },
  {
   "cell_type": "code",
   "execution_count": 48,
   "metadata": {},
   "outputs": [
    {
     "name": "stdout",
     "output_type": "stream",
     "text": [
      "/Users/svenja/Desktop/git/bootcamp/databer0619/module-1/lab-functional-programming/your-code\r\n"
     ]
    }
   ],
   "source": [
    "!pwd"
   ]
  },
  {
   "cell_type": "code",
   "execution_count": 49,
   "metadata": {},
   "outputs": [
    {
     "name": "stdout",
     "output_type": "stream",
     "text": [
      "\u001b[1m\u001b[36mlab-advanced-mysql\u001b[m\u001b[m/              \u001b[1m\u001b[36mlab-mysql-select\u001b[m\u001b[m/\r\n",
      "\u001b[1m\u001b[36mlab-advanced-regex\u001b[m\u001b[m/              \u001b[1m\u001b[36mlab-numpy\u001b[m\u001b[m/\r\n",
      "\u001b[1m\u001b[36mlab-advanced-web-scraping\u001b[m\u001b[m/       \u001b[1m\u001b[36mlab-object-oriented-programming\u001b[m\u001b[m/\r\n",
      "\u001b[1m\u001b[36mlab-api-scavenger-game\u001b[m\u001b[m/          \u001b[1m\u001b[36mlab-parallelization\u001b[m\u001b[m/\r\n",
      "\u001b[1m\u001b[36mlab-code-simplicity-efficiency\u001b[m\u001b[m/  \u001b[1m\u001b[36mlab-parsing-api\u001b[m\u001b[m/\r\n",
      "\u001b[1m\u001b[36mlab-data_cleaning\u001b[m\u001b[m/               \u001b[1m\u001b[36mlab-resolving-git-conflicts\u001b[m\u001b[m/\r\n",
      "\u001b[1m\u001b[36mlab-errhand_listcomp\u001b[m\u001b[m/            \u001b[1m\u001b[36mlab-rss\u001b[m\u001b[m/\r\n",
      "\u001b[1m\u001b[36mlab-error-handling\u001b[m\u001b[m/              \u001b[1m\u001b[36mlab-string-operations\u001b[m\u001b[m/\r\n",
      "\u001b[1m\u001b[36mlab-functional-programming\u001b[m\u001b[m/      \u001b[1m\u001b[36mlab-tuple-set-dict\u001b[m\u001b[m/\r\n",
      "\u001b[1m\u001b[36mlab-import-export\u001b[m\u001b[m/               \u001b[1m\u001b[36mlab-web-scraping\u001b[m\u001b[m/\r\n",
      "\u001b[1m\u001b[36mlab-intro-pandas\u001b[m\u001b[m/                \u001b[1m\u001b[36mpandas-project\u001b[m\u001b[m/\r\n",
      "\u001b[1m\u001b[36mlab-lambda-functions\u001b[m\u001b[m/            \u001b[1m\u001b[36mpipelines-project\u001b[m\u001b[m/\r\n",
      "\u001b[1m\u001b[36mlab-list-comprehensions\u001b[m\u001b[m/         \u001b[1m\u001b[36mpython-project\u001b[m\u001b[m/\r\n",
      "\u001b[1m\u001b[36mlab-map-reduce-filter\u001b[m\u001b[m/           \u001b[1m\u001b[36mweb-project\u001b[m\u001b[m/\r\n",
      "\u001b[1m\u001b[36mlab-mysql\u001b[m\u001b[m/\r\n"
     ]
    }
   ],
   "source": [
    "ls ../../"
   ]
  },
  {
   "cell_type": "code",
   "execution_count": 18,
   "metadata": {},
   "outputs": [
    {
     "name": "stdout",
     "output_type": "stream",
     "text": [
      "['Ironhack is cool.', 'I love Ironhack.', 'I am a student at Ironhack.']\n"
     ]
    }
   ],
   "source": [
    "bag_of_words = []\n",
    "corpus = []\n",
    "term_freq = []\n",
    "corpus2 = []\n",
    "docs = ['../../lab-string-operations/your-code/doc1.txt',\n",
    "        '../../lab-string-operations/your-code/doc2.txt',\n",
    "        '../../lab-string-operations/your-code/doc3.txt']\n",
    "#docs = []\n",
    "    \n",
    "for doc in docs:\n",
    "    text = open(doc, \"r\")\n",
    "    text2 = text.read()\n",
    "    corpus.append(text2)\n",
    "    text.close()\n",
    "        \n",
    "print(corpus)"
   ]
  },
  {
   "cell_type": "code",
   "execution_count": 19,
   "metadata": {},
   "outputs": [
    {
     "name": "stdout",
     "output_type": "stream",
     "text": [
      "['Ironhack is cool', 'I love Ironhack', 'I am a student at Ironhack']\n"
     ]
    }
   ],
   "source": [
    "for string in corpus:\n",
    "    if string[-1] ==\".\" or word[-1] == ',':\n",
    "        corpus2.append(string[:-1])\n",
    "\n",
    "print(corpus2)"
   ]
  },
  {
   "cell_type": "code",
   "execution_count": 20,
   "metadata": {},
   "outputs": [
    {
     "name": "stdout",
     "output_type": "stream",
     "text": [
      "['ironhack is cool', 'i love ironhack', 'i am a student at ironhack']\n"
     ]
    }
   ],
   "source": [
    "# convert to lower case\n",
    "corpus3 = []\n",
    "for string in corpus2:\n",
    "    string = string.lower()\n",
    "    corpus3.append(string)\n",
    "print(corpus3)"
   ]
  },
  {
   "cell_type": "code",
   "execution_count": 21,
   "metadata": {},
   "outputs": [
    {
     "name": "stdout",
     "output_type": "stream",
     "text": [
      "[['ironhack', 'is', 'cool'], ['i', 'love', 'ironhack'], ['i', 'am', 'a', 'student', 'at', 'ironhack']]\n"
     ]
    }
   ],
   "source": [
    "# split strings into words\n",
    "corpus4 = []\n",
    "\n",
    "for string in corpus3:\n",
    "    word = string.split()\n",
    "    corpus4.append(word)\n",
    "    \n",
    "print(corpus4)"
   ]
  },
  {
   "cell_type": "code",
   "execution_count": 22,
   "metadata": {},
   "outputs": [
    {
     "name": "stdout",
     "output_type": "stream",
     "text": [
      "['ironhack', 'is', 'cool', 'i', 'love', 'am', 'a', 'student', 'at']\n"
     ]
    }
   ],
   "source": [
    "# add to bag_of_words\n",
    "\n",
    "for string in corpus4:\n",
    "    for word in string:\n",
    "        if word not in bag_of_words:\n",
    "            bag_of_words.append(word)\n",
    "print(bag_of_words)"
   ]
  },
  {
   "cell_type": "code",
   "execution_count": 23,
   "metadata": {},
   "outputs": [
    {
     "name": "stdout",
     "output_type": "stream",
     "text": [
      "[[1, 1, 1, 0, 0, 0, 0, 0, 0], [1, 0, 0, 1, 1, 0, 0, 0, 0], [1, 0, 0, 1, 0, 1, 1, 1, 1]]\n"
     ]
    }
   ],
   "source": [
    "for string in corpus4:\n",
    "\n",
    "    sub_list = []\n",
    "    for word in bag_of_words:\n",
    "        count = 0\n",
    "        if word in string:\n",
    "            count += 1\n",
    "        else:\n",
    "            count += 0\n",
    "        sub_list.append(count)\n",
    "        #print(sub_list)\n",
    "    term_freq.append(sub_list)\n",
    "\n",
    "print(term_freq)"
   ]
  },
  {
   "cell_type": "code",
   "execution_count": 24,
   "metadata": {},
   "outputs": [
    {
     "data": {
      "text/plain": [
       "{'bag_of_words': ['ironhack',\n",
       "  'is',\n",
       "  'cool',\n",
       "  'i',\n",
       "  'love',\n",
       "  'am',\n",
       "  'a',\n",
       "  'student',\n",
       "  'at'],\n",
       " 'term_freq': [[1, 1, 1, 0, 0, 0, 0, 0, 0],\n",
       "  [1, 0, 0, 1, 1, 0, 0, 0, 0],\n",
       "  [1, 0, 0, 1, 0, 1, 1, 1, 1]]}"
      ]
     },
     "execution_count": 24,
     "metadata": {},
     "output_type": "execute_result"
    }
   ],
   "source": [
    "#     # Now return your output as an object\n",
    "#return \n",
    "{\n",
    "    \"bag_of_words\": bag_of_words,\n",
    "    \"term_freq\": term_freq\n",
    "}\n",
    "\n",
    "#get_bow_from_docs(docs, stop_words=[])"
   ]
  },
  {
   "cell_type": "code",
   "execution_count": null,
   "metadata": {},
   "outputs": [],
   "source": []
  },
  {
   "cell_type": "markdown",
   "metadata": {},
   "source": [
    "Test your function without stop words. You should see the output like below:\n",
    "\n",
    "```{'bag_of_words': ['ironhack', 'is', 'cool', 'i', 'love', 'am', 'a', 'student', 'at'], 'term_freq': [[1, 1, 1, 0, 0, 0, 0, 0, 0], [1, 0, 0, 1, 1, 0, 0, 0, 0], [1, 0, 0, 1, 0, 1, 1, 1, 1]]}```"
   ]
  },
  {
   "cell_type": "code",
   "execution_count": 30,
   "metadata": {},
   "outputs": [
    {
     "name": "stdout",
     "output_type": "stream",
     "text": [
      "{'bag_of_words': ['ironhack', 'is', 'cool', 'i', 'love', 'am', 'a', 'student', 'at'], 'term_freq': [[1, 1, 1, 0, 0, 0, 0, 0, 0], [1, 0, 0, 1, 1, 0, 0, 0, 0], [1, 0, 0, 1, 0, 1, 1, 1, 1]]}\n"
     ]
    }
   ],
   "source": [
    "# Define doc paths array\n",
    "docs = ['../../lab-string-operations/your-code/doc1.txt',\n",
    "        '../../lab-string-operations/your-code/doc2.txt',\n",
    "        '../../lab-string-operations/your-code/doc3.txt']\n",
    "\n",
    "# Obtain BoW from your function\n",
    "bow = get_bow_from_docs(docs)\n",
    "\n",
    "# Print BoW\n",
    "print(bow)"
   ]
  },
  {
   "cell_type": "markdown",
   "metadata": {},
   "source": [
    "If your attempt above is successful, nice work done!\n",
    "\n",
    "Now test your function again with the stop words. In the previous lab we defined the stop words in a large array. In this lab, we'll import the stop words from Scikit-Learn."
   ]
  },
  {
   "cell_type": "code",
   "execution_count": 31,
   "metadata": {},
   "outputs": [
    {
     "name": "stdout",
     "output_type": "stream",
     "text": [
      "frozenset({'myself', 'too', 'us', 'hereafter', 'system', 'once', 'down', 'you', 'describe', 'he', 'five', 'no', 'well', 'by', 'fifty', 'were', 'sincere', 'other', 'but', 'a', 'etc', 'being', 'four', 'inc', 'therein', 'over', 'whence', 'are', 'until', 'her', 'amongst', 'see', 'whoever', 'an', 'several', 'everyone', 'so', 'rather', 'yet', 'during', 'take', 'none', 're', 'wherein', 'then', 'anywhere', 'either', 'because', 'un', 'hereupon', 'onto', 'whether', 'twelve', 'indeed', 'neither', 'nor', 'she', 'sixty', 'before', 'all', 'herein', 'keep', 'anyway', 'much', 'thereafter', 'whereby', 'against', 'interest', 'this', 'nothing', 'please', 'find', 'cry', 'except', 'was', 'his', 'top', 'should', 'own', 'many', 'almost', 'one', 'co', 'what', 'hence', 'de', 'only', 'i', 'ours', 'along', 'name', 'ie', 'few', 'fifteen', 'about', 'more', 'ourselves', 'it', 'detail', 'your', 'hers', 'hereby', 'thence', 'get', 'sometime', 'always', 'third', 'nevertheless', 'eg', 'full', 'been', 'or', 'also', 'meanwhile', 'somehow', 'becomes', 'seems', 'per', 'give', 'towards', 'is', 'beyond', 'otherwise', 'around', 'never', 'amount', 'further', 'out', 'couldnt', 'every', 'under', 'its', 'for', 'him', 'side', 'himself', 'made', 'since', 'upon', 'as', 'twenty', 'found', 'the', 'while', 'they', 'could', 'next', 'namely', 'go', 'already', 'themselves', 'we', 'though', 'elsewhere', 'everything', 'without', 'whenever', 'whereafter', 'con', 'others', 'forty', 'those', 'although', 'moreover', 'thus', 'something', 'their', 'mine', 'from', 'formerly', 'yourselves', 'into', 'whatever', 'whither', 'off', 'perhaps', 'can', 'often', 'alone', 'them', 'who', 'afterwards', 'has', 'first', 'at', 'if', 'when', 'show', 'whom', 'after', 'not', 'on', 'empty', 'amoungst', 'me', 'again', 'to', 'than', 'noone', 'below', 'of', 'these', 'become', 'last', 'thin', 'behind', 'ltd', 'three', 'in', 'above', 'yours', 'that', 'might', 'both', 'anyhow', 'two', 'even', 'seeming', 'among', 'became', 'herself', 'such', 'would', 'whereupon', 'thick', 'else', 'may', 'cannot', 'serious', 'our', 'throughout', 'eleven', 'hundred', 'back', 'most', 'through', 'anything', 'there', 'part', 'within', 'between', 'via', 'beforehand', 'bill', 'itself', 'wherever', 'am', 'someone', 'done', 'front', 'mill', 'less', 'which', 'same', 'anyone', 'toward', 'latterly', 'sometimes', 'hasnt', 'cant', 'fill', 'across', 'enough', 'least', 'thru', 'somewhere', 'besides', 'whose', 'nobody', 'up', 'very', 'be', 'will', 'nine', 'another', 'everywhere', 'any', 'and', 'how', 'do', 'call', 'together', 'some', 'ever', 'eight', 'where', 'move', 'former', 'have', 'whereas', 'beside', 'therefore', 'six', 'now', 'my', 'seemed', 'with', 'becoming', 'put', 'still', 'here', 'bottom', 'each', 'fire', 'why', 'nowhere', 'yourself', 'ten', 'thereby', 'however', 'mostly', 'had', 'thereupon', 'seem', 'due', 'latter', 'whole', 'must'})\n"
     ]
    }
   ],
   "source": [
    "from sklearn.feature_extraction import stop_words\n",
    "print(stop_words.ENGLISH_STOP_WORDS)"
   ]
  },
  {
   "cell_type": "markdown",
   "metadata": {},
   "source": [
    "You should have seen a large list of words that looks like:\n",
    "\n",
    "```frozenset({'across', 'mine', 'cannot', ...})```\n",
    "\n",
    "`frozenset` is a type of Python object that is immutable. In this lab you can use it just like an array without conversion."
   ]
  },
  {
   "cell_type": "markdown",
   "metadata": {},
   "source": [
    "Next, test your function with supplying `stop_words.ENGLISH_STOP_WORDS` as the second parameter."
   ]
  },
  {
   "cell_type": "code",
   "execution_count": 32,
   "metadata": {},
   "outputs": [
    {
     "name": "stdout",
     "output_type": "stream",
     "text": [
      "{'bag_of_words': ['ironhack', 'cool', 'love', 'student'], 'term_freq': [[1, 1, 0, 0], [1, 0, 1, 0], [1, 0, 0, 1]]}\n"
     ]
    }
   ],
   "source": [
    "\n",
    "\n",
    "bow = get_bow_from_docs(docs, stop_words.ENGLISH_STOP_WORDS)\n",
    "\n",
    "print(bow)"
   ]
  },
  {
   "cell_type": "markdown",
   "metadata": {},
   "source": [
    "You should have seen:\n",
    "\n",
    "```{'bag_of_words': ['ironhack', 'cool', 'love', 'student'], 'term_freq': [[1, 1, 0, 0], [1, 0, 1, 0], [1, 0, 0, 1]]}```"
   ]
  },
  {
   "cell_type": "code",
   "execution_count": null,
   "metadata": {},
   "outputs": [],
   "source": []
  }
 ],
 "metadata": {
  "kernelspec": {
   "display_name": "Python 3",
   "language": "python",
   "name": "python3"
  },
  "language_info": {
   "codemirror_mode": {
    "name": "ipython",
    "version": 3
   },
   "file_extension": ".py",
   "mimetype": "text/x-python",
   "name": "python",
   "nbconvert_exporter": "python",
   "pygments_lexer": "ipython3",
   "version": "3.7.3"
  }
 },
 "nbformat": 4,
 "nbformat_minor": 2
}
