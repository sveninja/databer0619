{
 "cells": [
  {
   "cell_type": "markdown",
   "metadata": {},
   "source": [
    "# Before your start:\n",
    "- Read the README.md file\n",
    "- Comment as much as you can and use the resources in the README.md file\n",
    "- Happy learning!"
   ]
  },
  {
   "cell_type": "code",
   "execution_count": 37,
   "metadata": {},
   "outputs": [],
   "source": [
    "import numpy as np\n",
    "import pandas as pd"
   ]
  },
  {
   "cell_type": "markdown",
   "metadata": {},
   "source": [
    "# Challenge 1 - Iterators, Generators and `yield`. \n",
    "\n",
    "In iterator in Python is an object that represents a stream of data. However, iterators contain a countable number of values. We traverse through the iterator and return one value at a time. All iterators support a `next` function that allows us to traverse through the iterator. We can create an iterator using the `iter` function that comes with the base package of Python. Below is an example of an iterator."
   ]
  },
  {
   "cell_type": "code",
   "execution_count": 38,
   "metadata": {},
   "outputs": [
    {
     "name": "stdout",
     "output_type": "stream",
     "text": [
      "1\n"
     ]
    }
   ],
   "source": [
    "# We first define our iterator:\n",
    "\n",
    "iterator = iter([1,2,3])\n",
    "\n",
    "# We can now iterate through the object using the next function\n",
    "\n",
    "print(next(iterator))"
   ]
  },
  {
   "cell_type": "code",
   "execution_count": 39,
   "metadata": {},
   "outputs": [
    {
     "name": "stdout",
     "output_type": "stream",
     "text": [
      "2\n"
     ]
    }
   ],
   "source": [
    "# We continue to iterate through the iterator.\n",
    "\n",
    "print(next(iterator))"
   ]
  },
  {
   "cell_type": "code",
   "execution_count": 40,
   "metadata": {},
   "outputs": [
    {
     "name": "stdout",
     "output_type": "stream",
     "text": [
      "3\n"
     ]
    }
   ],
   "source": [
    "print(next(iterator))"
   ]
  },
  {
   "cell_type": "code",
   "execution_count": 41,
   "metadata": {},
   "outputs": [
    {
     "ename": "StopIteration",
     "evalue": "",
     "output_type": "error",
     "traceback": [
      "\u001b[0;31m---------------------------------------------------------------------------\u001b[0m",
      "\u001b[0;31mStopIteration\u001b[0m                             Traceback (most recent call last)",
      "\u001b[0;32m<ipython-input-41-91070dc82d50>\u001b[0m in \u001b[0;36m<module>\u001b[0;34m\u001b[0m\n\u001b[1;32m      1\u001b[0m \u001b[0;31m# After we have iterated through all elements, we will get a StopIteration Error\u001b[0m\u001b[0;34m\u001b[0m\u001b[0;34m\u001b[0m\u001b[0;34m\u001b[0m\u001b[0m\n\u001b[1;32m      2\u001b[0m \u001b[0;34m\u001b[0m\u001b[0m\n\u001b[0;32m----> 3\u001b[0;31m \u001b[0mprint\u001b[0m\u001b[0;34m(\u001b[0m\u001b[0mnext\u001b[0m\u001b[0;34m(\u001b[0m\u001b[0miterator\u001b[0m\u001b[0;34m)\u001b[0m\u001b[0;34m)\u001b[0m\u001b[0;34m\u001b[0m\u001b[0;34m\u001b[0m\u001b[0m\n\u001b[0m",
      "\u001b[0;31mStopIteration\u001b[0m: "
     ]
    }
   ],
   "source": [
    "# After we have iterated through all elements, we will get a StopIteration Error\n",
    "\n",
    "print(next(iterator))"
   ]
  },
  {
   "cell_type": "code",
   "execution_count": 42,
   "metadata": {},
   "outputs": [
    {
     "name": "stdout",
     "output_type": "stream",
     "text": [
      "1\n",
      "2\n",
      "3\n"
     ]
    }
   ],
   "source": [
    "# We can also iterate through an iterator using a for loop like this:\n",
    "# Note: we cannot go back directly in an iterator once we have traversed through the elements. \n",
    "# This is why we are redefining the iterator below\n",
    "\n",
    "iterator = iter([1,2,3])\n",
    "\n",
    "for i in iterator:\n",
    "    print(i)"
   ]
  },
  {
   "cell_type": "markdown",
   "metadata": {},
   "source": [
    "In the cell below, write a function that takes an iterator and returns the first element in the iterator and returns the first element in the iterator that is divisible by 2. Assume that all iterators contain only numeric data. If we have not found a single element that is divisible by 2, return zero."
   ]
  },
  {
   "cell_type": "code",
   "execution_count": 43,
   "metadata": {},
   "outputs": [
    {
     "name": "stdout",
     "output_type": "stream",
     "text": [
      "4\n"
     ]
    }
   ],
   "source": [
    "# iterator1 = iter([1,2,3])\n",
    "\n",
    "def divisible2(iterator):\n",
    "    # This function takes an iterable and returns the first element that is divisible by 2 and zero otherwise\n",
    "    # Input: Iterable\n",
    "    # Output: Integer\n",
    "    \n",
    "    # Sample Input: iter([1,2,3])\n",
    "    # Sample Output: 2\n",
    "    \n",
    "    # Your code here:\n",
    "    \n",
    "    for i in iterator:\n",
    "        if i%2 == 0:\n",
    "            return(i) # a function finishes as soon as it finds the return value\n",
    "    return(0) # otherwise you may get \"None\", function needs to return something\n",
    "\n",
    "# you can return more than one value:\n",
    "#     for i in iterator:\n",
    "#         if i%2 == 0:\n",
    "#             return i, True\n",
    "#     return 0, False\n",
    "    \n",
    "outcome = divisible2(range(4,10))\n",
    "#outcome = divisible2(range(3,11,2))\n",
    "print(outcome)\n",
    "    "
   ]
  },
  {
   "cell_type": "markdown",
   "metadata": {},
   "source": [
    "### Generators\n",
    "\n",
    "It is quite difficult to create your own iterator since you would have to implement a `next` function. Generators are functions that enable us to create iterators. The difference between a function and a generator is that instead of using `return`, we use `yield`. For example, below we have a function that returns an iterator containing the numbers 0 through n:"
   ]
  },
  {
   "cell_type": "code",
   "execution_count": 44,
   "metadata": {},
   "outputs": [],
   "source": [
    "def firstn(n):\n",
    "     number = 0\n",
    "     while number < n:\n",
    "         yield number\n",
    "         number = number + 1"
   ]
  },
  {
   "cell_type": "markdown",
   "metadata": {},
   "source": [
    "If we pass 5 to the function, we will see that we have a iterator containing the numbers 0 through 4."
   ]
  },
  {
   "cell_type": "code",
   "execution_count": 45,
   "metadata": {},
   "outputs": [
    {
     "name": "stdout",
     "output_type": "stream",
     "text": [
      "0\n",
      "1\n",
      "2\n",
      "3\n",
      "4\n"
     ]
    }
   ],
   "source": [
    "iterator = firstn(5)\n",
    "\n",
    "for i in iterator:\n",
    "    print(i)"
   ]
  },
  {
   "cell_type": "markdown",
   "metadata": {},
   "source": [
    "In the cell below, create a generator that takes a number and returns an iterator containing all even numbers between 0 and the number you passed to the generator."
   ]
  },
  {
   "cell_type": "code",
   "execution_count": 46,
   "metadata": {},
   "outputs": [
    {
     "name": "stdout",
     "output_type": "stream",
     "text": [
      "0\n",
      "2\n",
      "4\n"
     ]
    }
   ],
   "source": [
    "def even_iterator(n):\n",
    "    # This function produces an iterator containing all even numbers between 0 and n\n",
    "    # Input: integer\n",
    "    # Output: iterator\n",
    "    \n",
    "    # Sample Input: 5\n",
    "    # Sample Output: iter([0, 2, 4])\n",
    "    \n",
    "    # Your code here:\n",
    "    \n",
    "    number = 0\n",
    "    while number < n:\n",
    "        if number%2 == 0:\n",
    "            yield number\n",
    "        number += 1\n",
    "            \n",
    "iterator = even_iterator(5)\n",
    "\n",
    "for i in iterator:\n",
    "    print(i)\n",
    "    \n",
    "#print(\"x\")"
   ]
  },
  {
   "cell_type": "markdown",
   "metadata": {},
   "source": [
    "# Challenge 2 - Applying Functions to DataFrames\n",
    "\n",
    "In this challenge, we will look at how to transform cells or entire columns at once.\n",
    "\n",
    "First, let's load a dataset. We will download the famous Iris classification dataset in the cell below."
   ]
  },
  {
   "cell_type": "code",
   "execution_count": 65,
   "metadata": {},
   "outputs": [],
   "source": [
    "import pandas as pd\n",
    "\n",
    "columns = ['sepal_length', 'sepal_width', 'petal_length','petal_width','iris_type']\n",
    "iris = pd.read_csv(\"https://archive.ics.uci.edu/ml/machine-learning-databases/iris/iris.data\", names=columns)\n",
    "# reads csv file directly from url"
   ]
  },
  {
   "cell_type": "markdown",
   "metadata": {},
   "source": [
    "Let's look at the dataset using the `head` function."
   ]
  },
  {
   "cell_type": "code",
   "execution_count": 66,
   "metadata": {},
   "outputs": [
    {
     "data": {
      "text/html": [
       "<div>\n",
       "<style scoped>\n",
       "    .dataframe tbody tr th:only-of-type {\n",
       "        vertical-align: middle;\n",
       "    }\n",
       "\n",
       "    .dataframe tbody tr th {\n",
       "        vertical-align: top;\n",
       "    }\n",
       "\n",
       "    .dataframe thead th {\n",
       "        text-align: right;\n",
       "    }\n",
       "</style>\n",
       "<table border=\"1\" class=\"dataframe\">\n",
       "  <thead>\n",
       "    <tr style=\"text-align: right;\">\n",
       "      <th></th>\n",
       "      <th>sepal_length</th>\n",
       "      <th>sepal_width</th>\n",
       "      <th>petal_length</th>\n",
       "      <th>petal_width</th>\n",
       "      <th>iris_type</th>\n",
       "    </tr>\n",
       "  </thead>\n",
       "  <tbody>\n",
       "    <tr>\n",
       "      <th>0</th>\n",
       "      <td>5.1</td>\n",
       "      <td>3.5</td>\n",
       "      <td>1.4</td>\n",
       "      <td>0.2</td>\n",
       "      <td>Iris-setosa</td>\n",
       "    </tr>\n",
       "    <tr>\n",
       "      <th>1</th>\n",
       "      <td>4.9</td>\n",
       "      <td>3.0</td>\n",
       "      <td>1.4</td>\n",
       "      <td>0.2</td>\n",
       "      <td>Iris-setosa</td>\n",
       "    </tr>\n",
       "    <tr>\n",
       "      <th>2</th>\n",
       "      <td>4.7</td>\n",
       "      <td>3.2</td>\n",
       "      <td>1.3</td>\n",
       "      <td>0.2</td>\n",
       "      <td>Iris-setosa</td>\n",
       "    </tr>\n",
       "    <tr>\n",
       "      <th>3</th>\n",
       "      <td>4.6</td>\n",
       "      <td>3.1</td>\n",
       "      <td>1.5</td>\n",
       "      <td>0.2</td>\n",
       "      <td>Iris-setosa</td>\n",
       "    </tr>\n",
       "    <tr>\n",
       "      <th>4</th>\n",
       "      <td>5.0</td>\n",
       "      <td>3.6</td>\n",
       "      <td>1.4</td>\n",
       "      <td>0.2</td>\n",
       "      <td>Iris-setosa</td>\n",
       "    </tr>\n",
       "    <tr>\n",
       "      <th>5</th>\n",
       "      <td>5.4</td>\n",
       "      <td>3.9</td>\n",
       "      <td>1.7</td>\n",
       "      <td>0.4</td>\n",
       "      <td>Iris-setosa</td>\n",
       "    </tr>\n",
       "    <tr>\n",
       "      <th>6</th>\n",
       "      <td>4.6</td>\n",
       "      <td>3.4</td>\n",
       "      <td>1.4</td>\n",
       "      <td>0.3</td>\n",
       "      <td>Iris-setosa</td>\n",
       "    </tr>\n",
       "    <tr>\n",
       "      <th>7</th>\n",
       "      <td>5.0</td>\n",
       "      <td>3.4</td>\n",
       "      <td>1.5</td>\n",
       "      <td>0.2</td>\n",
       "      <td>Iris-setosa</td>\n",
       "    </tr>\n",
       "    <tr>\n",
       "      <th>8</th>\n",
       "      <td>4.4</td>\n",
       "      <td>2.9</td>\n",
       "      <td>1.4</td>\n",
       "      <td>0.2</td>\n",
       "      <td>Iris-setosa</td>\n",
       "    </tr>\n",
       "    <tr>\n",
       "      <th>9</th>\n",
       "      <td>4.9</td>\n",
       "      <td>3.1</td>\n",
       "      <td>1.5</td>\n",
       "      <td>0.1</td>\n",
       "      <td>Iris-setosa</td>\n",
       "    </tr>\n",
       "  </tbody>\n",
       "</table>\n",
       "</div>"
      ],
      "text/plain": [
       "   sepal_length  sepal_width  petal_length  petal_width    iris_type\n",
       "0           5.1          3.5           1.4          0.2  Iris-setosa\n",
       "1           4.9          3.0           1.4          0.2  Iris-setosa\n",
       "2           4.7          3.2           1.3          0.2  Iris-setosa\n",
       "3           4.6          3.1           1.5          0.2  Iris-setosa\n",
       "4           5.0          3.6           1.4          0.2  Iris-setosa\n",
       "5           5.4          3.9           1.7          0.4  Iris-setosa\n",
       "6           4.6          3.4           1.4          0.3  Iris-setosa\n",
       "7           5.0          3.4           1.5          0.2  Iris-setosa\n",
       "8           4.4          2.9           1.4          0.2  Iris-setosa\n",
       "9           4.9          3.1           1.5          0.1  Iris-setosa"
      ]
     },
     "execution_count": 66,
     "metadata": {},
     "output_type": "execute_result"
    }
   ],
   "source": [
    "# Your code here:\n",
    "iris.head(10)\n",
    "\n"
   ]
  },
  {
   "cell_type": "code",
   "execution_count": 67,
   "metadata": {},
   "outputs": [
    {
     "data": {
      "text/html": [
       "<div>\n",
       "<style scoped>\n",
       "    .dataframe tbody tr th:only-of-type {\n",
       "        vertical-align: middle;\n",
       "    }\n",
       "\n",
       "    .dataframe tbody tr th {\n",
       "        vertical-align: top;\n",
       "    }\n",
       "\n",
       "    .dataframe thead th {\n",
       "        text-align: right;\n",
       "    }\n",
       "</style>\n",
       "<table border=\"1\" class=\"dataframe\">\n",
       "  <thead>\n",
       "    <tr style=\"text-align: right;\">\n",
       "      <th></th>\n",
       "      <th>sepal_length</th>\n",
       "      <th>sepal_width</th>\n",
       "      <th>petal_length</th>\n",
       "      <th>petal_width</th>\n",
       "      <th>iris_type</th>\n",
       "    </tr>\n",
       "  </thead>\n",
       "  <tbody>\n",
       "    <tr>\n",
       "      <th>145</th>\n",
       "      <td>6.7</td>\n",
       "      <td>3.0</td>\n",
       "      <td>5.2</td>\n",
       "      <td>2.3</td>\n",
       "      <td>Iris-virginica</td>\n",
       "    </tr>\n",
       "    <tr>\n",
       "      <th>146</th>\n",
       "      <td>6.3</td>\n",
       "      <td>2.5</td>\n",
       "      <td>5.0</td>\n",
       "      <td>1.9</td>\n",
       "      <td>Iris-virginica</td>\n",
       "    </tr>\n",
       "    <tr>\n",
       "      <th>147</th>\n",
       "      <td>6.5</td>\n",
       "      <td>3.0</td>\n",
       "      <td>5.2</td>\n",
       "      <td>2.0</td>\n",
       "      <td>Iris-virginica</td>\n",
       "    </tr>\n",
       "    <tr>\n",
       "      <th>148</th>\n",
       "      <td>6.2</td>\n",
       "      <td>3.4</td>\n",
       "      <td>5.4</td>\n",
       "      <td>2.3</td>\n",
       "      <td>Iris-virginica</td>\n",
       "    </tr>\n",
       "    <tr>\n",
       "      <th>149</th>\n",
       "      <td>5.9</td>\n",
       "      <td>3.0</td>\n",
       "      <td>5.1</td>\n",
       "      <td>1.8</td>\n",
       "      <td>Iris-virginica</td>\n",
       "    </tr>\n",
       "  </tbody>\n",
       "</table>\n",
       "</div>"
      ],
      "text/plain": [
       "     sepal_length  sepal_width  petal_length  petal_width       iris_type\n",
       "145           6.7          3.0           5.2          2.3  Iris-virginica\n",
       "146           6.3          2.5           5.0          1.9  Iris-virginica\n",
       "147           6.5          3.0           5.2          2.0  Iris-virginica\n",
       "148           6.2          3.4           5.4          2.3  Iris-virginica\n",
       "149           5.9          3.0           5.1          1.8  Iris-virginica"
      ]
     },
     "execution_count": 67,
     "metadata": {},
     "output_type": "execute_result"
    }
   ],
   "source": [
    "iris.tail()"
   ]
  },
  {
   "cell_type": "markdown",
   "metadata": {},
   "source": [
    "Let's start off by using built-in functions. Try to apply the numpy mean function and describe what happens in the comments of the code."
   ]
  },
  {
   "cell_type": "code",
   "execution_count": 68,
   "metadata": {},
   "outputs": [
    {
     "data": {
      "text/plain": [
       "sepal_length    5.843333\n",
       "sepal_width     3.054000\n",
       "petal_length    3.758667\n",
       "petal_width     1.198667\n",
       "dtype: float64"
      ]
     },
     "execution_count": 68,
     "metadata": {},
     "output_type": "execute_result"
    }
   ],
   "source": [
    "# Your code here:\n",
    "import numpy as np\n",
    "\n",
    "np.mean(iris)\n",
    "\n",
    "# the mean for each column is returned (+data type)"
   ]
  },
  {
   "cell_type": "markdown",
   "metadata": {},
   "source": [
    "Next, we'll apply the standard deviation function in numpy (`np.std`). Describe what happened in the comments."
   ]
  },
  {
   "cell_type": "code",
   "execution_count": 69,
   "metadata": {},
   "outputs": [
    {
     "data": {
      "text/plain": [
       "sepal_length    0.825301\n",
       "sepal_width     0.432147\n",
       "petal_length    1.758529\n",
       "petal_width     0.760613\n",
       "dtype: float64"
      ]
     },
     "execution_count": 69,
     "metadata": {},
     "output_type": "execute_result"
    }
   ],
   "source": [
    "# Your code here:\n",
    "\n",
    "np.std(iris)\n",
    "\n",
    "# standard deviation by column is returned"
   ]
  },
  {
   "cell_type": "code",
   "execution_count": 70,
   "metadata": {},
   "outputs": [
    {
     "name": "stdout",
     "output_type": "stream",
     "text": [
      "<class 'pandas.core.frame.DataFrame'>\n",
      "RangeIndex: 150 entries, 0 to 149\n",
      "Data columns (total 5 columns):\n",
      "sepal_length    150 non-null float64\n",
      "sepal_width     150 non-null float64\n",
      "petal_length    150 non-null float64\n",
      "petal_width     150 non-null float64\n",
      "iris_type       150 non-null object\n",
      "dtypes: float64(4), object(1)\n",
      "memory usage: 5.9+ KB\n"
     ]
    }
   ],
   "source": [
    "iris.info()"
   ]
  },
  {
   "cell_type": "raw",
   "metadata": {},
   "source": [
    "#iris.describe()"
   ]
  },
  {
   "cell_type": "markdown",
   "metadata": {},
   "source": [
    "The measurements are in centimeters. Let's convert them all to inches. First, we will create a dataframe that contains only the numeric columns. Assign this new dataframe to `iris_numeric`."
   ]
  },
  {
   "cell_type": "code",
   "execution_count": 75,
   "metadata": {},
   "outputs": [
    {
     "name": "stdout",
     "output_type": "stream",
     "text": [
      "<class 'pandas.core.frame.DataFrame'>\n",
      "     sepal_length  sepal_width  petal_length  petal_width\n",
      "0             5.1          3.5           1.4          0.2\n",
      "1             4.9          3.0           1.4          0.2\n",
      "2             4.7          3.2           1.3          0.2\n",
      "3             4.6          3.1           1.5          0.2\n",
      "4             5.0          3.6           1.4          0.2\n",
      "5             5.4          3.9           1.7          0.4\n",
      "6             4.6          3.4           1.4          0.3\n",
      "7             5.0          3.4           1.5          0.2\n",
      "8             4.4          2.9           1.4          0.2\n",
      "9             4.9          3.1           1.5          0.1\n",
      "10            5.4          3.7           1.5          0.2\n",
      "11            4.8          3.4           1.6          0.2\n",
      "12            4.8          3.0           1.4          0.1\n",
      "13            4.3          3.0           1.1          0.1\n",
      "14            5.8          4.0           1.2          0.2\n",
      "15            5.7          4.4           1.5          0.4\n",
      "16            5.4          3.9           1.3          0.4\n",
      "17            5.1          3.5           1.4          0.3\n",
      "18            5.7          3.8           1.7          0.3\n",
      "19            5.1          3.8           1.5          0.3\n",
      "20            5.4          3.4           1.7          0.2\n",
      "21            5.1          3.7           1.5          0.4\n",
      "22            4.6          3.6           1.0          0.2\n",
      "23            5.1          3.3           1.7          0.5\n",
      "24            4.8          3.4           1.9          0.2\n",
      "25            5.0          3.0           1.6          0.2\n",
      "26            5.0          3.4           1.6          0.4\n",
      "27            5.2          3.5           1.5          0.2\n",
      "28            5.2          3.4           1.4          0.2\n",
      "29            4.7          3.2           1.6          0.2\n",
      "..            ...          ...           ...          ...\n",
      "120           6.9          3.2           5.7          2.3\n",
      "121           5.6          2.8           4.9          2.0\n",
      "122           7.7          2.8           6.7          2.0\n",
      "123           6.3          2.7           4.9          1.8\n",
      "124           6.7          3.3           5.7          2.1\n",
      "125           7.2          3.2           6.0          1.8\n",
      "126           6.2          2.8           4.8          1.8\n",
      "127           6.1          3.0           4.9          1.8\n",
      "128           6.4          2.8           5.6          2.1\n",
      "129           7.2          3.0           5.8          1.6\n",
      "130           7.4          2.8           6.1          1.9\n",
      "131           7.9          3.8           6.4          2.0\n",
      "132           6.4          2.8           5.6          2.2\n",
      "133           6.3          2.8           5.1          1.5\n",
      "134           6.1          2.6           5.6          1.4\n",
      "135           7.7          3.0           6.1          2.3\n",
      "136           6.3          3.4           5.6          2.4\n",
      "137           6.4          3.1           5.5          1.8\n",
      "138           6.0          3.0           4.8          1.8\n",
      "139           6.9          3.1           5.4          2.1\n",
      "140           6.7          3.1           5.6          2.4\n",
      "141           6.9          3.1           5.1          2.3\n",
      "142           5.8          2.7           5.1          1.9\n",
      "143           6.8          3.2           5.9          2.3\n",
      "144           6.7          3.3           5.7          2.5\n",
      "145           6.7          3.0           5.2          2.3\n",
      "146           6.3          2.5           5.0          1.9\n",
      "147           6.5          3.0           5.2          2.0\n",
      "148           6.2          3.4           5.4          2.3\n",
      "149           5.9          3.0           5.1          1.8\n",
      "\n",
      "[150 rows x 4 columns]\n"
     ]
    }
   ],
   "source": [
    "iris_numeric = iris[['sepal_length', 'sepal_width', 'petal_length','petal_width']]\n",
    "\n",
    "print(type(iris_numeric))\n",
    "print(iris_numeric)"
   ]
  },
  {
   "cell_type": "code",
   "execution_count": 76,
   "metadata": {},
   "outputs": [],
   "source": [
    "# iris_numeric2 = [x for x in iris._get_numeric_data()]\n",
    "# iris_numeric2"
   ]
  },
  {
   "cell_type": "markdown",
   "metadata": {},
   "source": [
    "Next, we will write a function that converts centimeters to inches in the cell below. Recall that 1cm = 0.393701in."
   ]
  },
  {
   "cell_type": "code",
   "execution_count": 77,
   "metadata": {},
   "outputs": [],
   "source": [
    "def cm_to_in(x):\n",
    "    # This function takes in a numeric value in centimeters and converts it to inches\n",
    "    # Input: numeric value\n",
    "    # Output: float\n",
    "    \n",
    "    # Sample Input: 1.0\n",
    "    # Sample Output: 0.393701\n",
    "    \n",
    "    # Your code here:\n",
    "    return 0.393701 * x"
   ]
  },
  {
   "cell_type": "markdown",
   "metadata": {},
   "source": [
    "Now convert all columns in `iris_numeric` to inches in the cell below. We like to think of functional transformations as immutable. Therefore, save the transformed data in a dataframe called `iris_inch`."
   ]
  },
  {
   "cell_type": "code",
   "execution_count": 78,
   "metadata": {},
   "outputs": [
    {
     "name": "stdout",
     "output_type": "stream",
     "text": [
      "     sepal_length  sepal_width  petal_length  petal_width\n",
      "0        2.007875     1.377954      0.551181     0.078740\n",
      "1        1.929135     1.181103      0.551181     0.078740\n",
      "2        1.850395     1.259843      0.511811     0.078740\n",
      "3        1.811025     1.220473      0.590552     0.078740\n",
      "4        1.968505     1.417324      0.551181     0.078740\n",
      "5        2.125985     1.535434      0.669292     0.157480\n",
      "6        1.811025     1.338583      0.551181     0.118110\n",
      "7        1.968505     1.338583      0.590552     0.078740\n",
      "8        1.732284     1.141733      0.551181     0.078740\n",
      "9        1.929135     1.220473      0.590552     0.039370\n",
      "10       2.125985     1.456694      0.590552     0.078740\n",
      "11       1.889765     1.338583      0.629922     0.078740\n",
      "12       1.889765     1.181103      0.551181     0.039370\n",
      "13       1.692914     1.181103      0.433071     0.039370\n",
      "14       2.283466     1.574804      0.472441     0.078740\n",
      "15       2.244096     1.732284      0.590552     0.157480\n",
      "16       2.125985     1.535434      0.511811     0.157480\n",
      "17       2.007875     1.377954      0.551181     0.118110\n",
      "18       2.244096     1.496064      0.669292     0.118110\n",
      "19       2.007875     1.496064      0.590552     0.118110\n",
      "20       2.125985     1.338583      0.669292     0.078740\n",
      "21       2.007875     1.456694      0.590552     0.157480\n",
      "22       1.811025     1.417324      0.393701     0.078740\n",
      "23       2.007875     1.299213      0.669292     0.196851\n",
      "24       1.889765     1.338583      0.748032     0.078740\n",
      "25       1.968505     1.181103      0.629922     0.078740\n",
      "26       1.968505     1.338583      0.629922     0.157480\n",
      "27       2.047245     1.377954      0.590552     0.078740\n",
      "28       2.047245     1.338583      0.551181     0.078740\n",
      "29       1.850395     1.259843      0.629922     0.078740\n",
      "..            ...          ...           ...          ...\n",
      "120      2.716537     1.259843      2.244096     0.905512\n",
      "121      2.204726     1.102363      1.929135     0.787402\n",
      "122      3.031498     1.102363      2.637797     0.787402\n",
      "123      2.480316     1.062993      1.929135     0.708662\n",
      "124      2.637797     1.299213      2.244096     0.826772\n",
      "125      2.834647     1.259843      2.362206     0.708662\n",
      "126      2.440946     1.102363      1.889765     0.708662\n",
      "127      2.401576     1.181103      1.929135     0.708662\n",
      "128      2.519686     1.102363      2.204726     0.826772\n",
      "129      2.834647     1.181103      2.283466     0.629922\n",
      "130      2.913387     1.102363      2.401576     0.748032\n",
      "131      3.110238     1.496064      2.519686     0.787402\n",
      "132      2.519686     1.102363      2.204726     0.866142\n",
      "133      2.480316     1.102363      2.007875     0.590552\n",
      "134      2.401576     1.023623      2.204726     0.551181\n",
      "135      3.031498     1.181103      2.401576     0.905512\n",
      "136      2.480316     1.338583      2.204726     0.944882\n",
      "137      2.519686     1.220473      2.165355     0.708662\n",
      "138      2.362206     1.181103      1.889765     0.708662\n",
      "139      2.716537     1.220473      2.125985     0.826772\n",
      "140      2.637797     1.220473      2.204726     0.944882\n",
      "141      2.716537     1.220473      2.007875     0.905512\n",
      "142      2.283466     1.062993      2.007875     0.748032\n",
      "143      2.677167     1.259843      2.322836     0.905512\n",
      "144      2.637797     1.299213      2.244096     0.984253\n",
      "145      2.637797     1.181103      2.047245     0.905512\n",
      "146      2.480316     0.984253      1.968505     0.748032\n",
      "147      2.559057     1.181103      2.047245     0.787402\n",
      "148      2.440946     1.338583      2.125985     0.905512\n",
      "149      2.322836     1.181103      2.007875     0.708662\n",
      "\n",
      "[150 rows x 4 columns]\n"
     ]
    }
   ],
   "source": [
    "# Your code here:\n",
    "\n",
    "iris_inch = cm_to_in(iris_numeric)\n",
    "print(iris_inch)"
   ]
  },
  {
   "cell_type": "markdown",
   "metadata": {},
   "source": [
    "We have just found that the original measurements were off by a constant. Define the global constant `error` and set it to 2. Write a function that uses the global constant and adds it to each cell in the dataframe. Apply this function to `iris_numeric` and save the result in `iris_constant`."
   ]
  },
  {
   "cell_type": "code",
   "execution_count": 79,
   "metadata": {},
   "outputs": [
    {
     "name": "stdout",
     "output_type": "stream",
     "text": [
      "<class 'pandas.core.frame.DataFrame'>\n",
      "     sepal_length  sepal_width  petal_length  petal_width\n",
      "0             7.1          5.5           3.4          2.2\n",
      "1             6.9          5.0           3.4          2.2\n",
      "2             6.7          5.2           3.3          2.2\n",
      "3             6.6          5.1           3.5          2.2\n",
      "4             7.0          5.6           3.4          2.2\n",
      "5             7.4          5.9           3.7          2.4\n",
      "6             6.6          5.4           3.4          2.3\n",
      "7             7.0          5.4           3.5          2.2\n",
      "8             6.4          4.9           3.4          2.2\n",
      "9             6.9          5.1           3.5          2.1\n",
      "10            7.4          5.7           3.5          2.2\n",
      "11            6.8          5.4           3.6          2.2\n",
      "12            6.8          5.0           3.4          2.1\n",
      "13            6.3          5.0           3.1          2.1\n",
      "14            7.8          6.0           3.2          2.2\n",
      "15            7.7          6.4           3.5          2.4\n",
      "16            7.4          5.9           3.3          2.4\n",
      "17            7.1          5.5           3.4          2.3\n",
      "18            7.7          5.8           3.7          2.3\n",
      "19            7.1          5.8           3.5          2.3\n",
      "20            7.4          5.4           3.7          2.2\n",
      "21            7.1          5.7           3.5          2.4\n",
      "22            6.6          5.6           3.0          2.2\n",
      "23            7.1          5.3           3.7          2.5\n",
      "24            6.8          5.4           3.9          2.2\n",
      "25            7.0          5.0           3.6          2.2\n",
      "26            7.0          5.4           3.6          2.4\n",
      "27            7.2          5.5           3.5          2.2\n",
      "28            7.2          5.4           3.4          2.2\n",
      "29            6.7          5.2           3.6          2.2\n",
      "..            ...          ...           ...          ...\n",
      "120           8.9          5.2           7.7          4.3\n",
      "121           7.6          4.8           6.9          4.0\n",
      "122           9.7          4.8           8.7          4.0\n",
      "123           8.3          4.7           6.9          3.8\n",
      "124           8.7          5.3           7.7          4.1\n",
      "125           9.2          5.2           8.0          3.8\n",
      "126           8.2          4.8           6.8          3.8\n",
      "127           8.1          5.0           6.9          3.8\n",
      "128           8.4          4.8           7.6          4.1\n",
      "129           9.2          5.0           7.8          3.6\n",
      "130           9.4          4.8           8.1          3.9\n",
      "131           9.9          5.8           8.4          4.0\n",
      "132           8.4          4.8           7.6          4.2\n",
      "133           8.3          4.8           7.1          3.5\n",
      "134           8.1          4.6           7.6          3.4\n",
      "135           9.7          5.0           8.1          4.3\n",
      "136           8.3          5.4           7.6          4.4\n",
      "137           8.4          5.1           7.5          3.8\n",
      "138           8.0          5.0           6.8          3.8\n",
      "139           8.9          5.1           7.4          4.1\n",
      "140           8.7          5.1           7.6          4.4\n",
      "141           8.9          5.1           7.1          4.3\n",
      "142           7.8          4.7           7.1          3.9\n",
      "143           8.8          5.2           7.9          4.3\n",
      "144           8.7          5.3           7.7          4.5\n",
      "145           8.7          5.0           7.2          4.3\n",
      "146           8.3          4.5           7.0          3.9\n",
      "147           8.5          5.0           7.2          4.0\n",
      "148           8.2          5.4           7.4          4.3\n",
      "149           7.9          5.0           7.1          3.8\n",
      "\n",
      "[150 rows x 4 columns]\n"
     ]
    }
   ],
   "source": [
    "# Define constant below:\n",
    "error = 2\n",
    "print(type(iris_numeric))\n",
    "def add_constant(x):\n",
    "    # This function adds a global constant to our input.\n",
    "    # Input: numeric value\n",
    "    # Output: numeric value\n",
    "    \n",
    "    # Your code here:\n",
    "    \n",
    "    return x + error\n",
    "\n",
    "iris_constant = add_constant(iris_numeric)\n",
    "print(iris_constant)\n",
    "    "
   ]
  },
  {
   "cell_type": "markdown",
   "metadata": {},
   "source": [
    "# Bonus Challenge - Applying Functions to Columns\n",
    "\n",
    "Read more about applying functions to either rows or columns [here](https://pandas.pydata.org/pandas-docs/stable/generated/pandas.DataFrame.apply.html) and write a function that computes the maximum value for each row of `iris_numeric`"
   ]
  },
  {
   "cell_type": "code",
   "execution_count": 80,
   "metadata": {},
   "outputs": [
    {
     "data": {
      "text/plain": [
       "0      5.1\n",
       "1      4.9\n",
       "2      4.7\n",
       "3      4.6\n",
       "4      5.0\n",
       "5      5.4\n",
       "6      4.6\n",
       "7      5.0\n",
       "8      4.4\n",
       "9      4.9\n",
       "10     5.4\n",
       "11     4.8\n",
       "12     4.8\n",
       "13     4.3\n",
       "14     5.8\n",
       "15     5.7\n",
       "16     5.4\n",
       "17     5.1\n",
       "18     5.7\n",
       "19     5.1\n",
       "20     5.4\n",
       "21     5.1\n",
       "22     4.6\n",
       "23     5.1\n",
       "24     4.8\n",
       "25     5.0\n",
       "26     5.0\n",
       "27     5.2\n",
       "28     5.2\n",
       "29     4.7\n",
       "      ... \n",
       "120    6.9\n",
       "121    5.6\n",
       "122    7.7\n",
       "123    6.3\n",
       "124    6.7\n",
       "125    7.2\n",
       "126    6.2\n",
       "127    6.1\n",
       "128    6.4\n",
       "129    7.2\n",
       "130    7.4\n",
       "131    7.9\n",
       "132    6.4\n",
       "133    6.3\n",
       "134    6.1\n",
       "135    7.7\n",
       "136    6.3\n",
       "137    6.4\n",
       "138    6.0\n",
       "139    6.9\n",
       "140    6.7\n",
       "141    6.9\n",
       "142    5.8\n",
       "143    6.8\n",
       "144    6.7\n",
       "145    6.7\n",
       "146    6.3\n",
       "147    6.5\n",
       "148    6.2\n",
       "149    5.9\n",
       "Length: 150, dtype: float64"
      ]
     },
     "execution_count": 80,
     "metadata": {},
     "output_type": "execute_result"
    }
   ],
   "source": [
    "# Your code here:\n",
    "\n",
    "iris_numeric.apply(max, axis=1)"
   ]
  },
  {
   "cell_type": "markdown",
   "metadata": {},
   "source": [
    "Compute the combined lengths for each row and the combined widths for each row using a function. Assign these values to new columns `total_length` and `total_width`."
   ]
  },
  {
   "cell_type": "code",
   "execution_count": 81,
   "metadata": {},
   "outputs": [
    {
     "name": "stdout",
     "output_type": "stream",
     "text": [
      "     sepal_length  sepal_width  petal_length  petal_width  total_width  \\\n",
      "0             5.1          3.5           1.4          0.2          3.7   \n",
      "1             4.9          3.0           1.4          0.2          3.2   \n",
      "2             4.7          3.2           1.3          0.2          3.4   \n",
      "3             4.6          3.1           1.5          0.2          3.3   \n",
      "4             5.0          3.6           1.4          0.2          3.8   \n",
      "5             5.4          3.9           1.7          0.4          4.3   \n",
      "6             4.6          3.4           1.4          0.3          3.7   \n",
      "7             5.0          3.4           1.5          0.2          3.6   \n",
      "8             4.4          2.9           1.4          0.2          3.1   \n",
      "9             4.9          3.1           1.5          0.1          3.2   \n",
      "10            5.4          3.7           1.5          0.2          3.9   \n",
      "11            4.8          3.4           1.6          0.2          3.6   \n",
      "12            4.8          3.0           1.4          0.1          3.1   \n",
      "13            4.3          3.0           1.1          0.1          3.1   \n",
      "14            5.8          4.0           1.2          0.2          4.2   \n",
      "15            5.7          4.4           1.5          0.4          4.8   \n",
      "16            5.4          3.9           1.3          0.4          4.3   \n",
      "17            5.1          3.5           1.4          0.3          3.8   \n",
      "18            5.7          3.8           1.7          0.3          4.1   \n",
      "19            5.1          3.8           1.5          0.3          4.1   \n",
      "20            5.4          3.4           1.7          0.2          3.6   \n",
      "21            5.1          3.7           1.5          0.4          4.1   \n",
      "22            4.6          3.6           1.0          0.2          3.8   \n",
      "23            5.1          3.3           1.7          0.5          3.8   \n",
      "24            4.8          3.4           1.9          0.2          3.6   \n",
      "25            5.0          3.0           1.6          0.2          3.2   \n",
      "26            5.0          3.4           1.6          0.4          3.8   \n",
      "27            5.2          3.5           1.5          0.2          3.7   \n",
      "28            5.2          3.4           1.4          0.2          3.6   \n",
      "29            4.7          3.2           1.6          0.2          3.4   \n",
      "..            ...          ...           ...          ...          ...   \n",
      "120           6.9          3.2           5.7          2.3          5.5   \n",
      "121           5.6          2.8           4.9          2.0          4.8   \n",
      "122           7.7          2.8           6.7          2.0          4.8   \n",
      "123           6.3          2.7           4.9          1.8          4.5   \n",
      "124           6.7          3.3           5.7          2.1          5.4   \n",
      "125           7.2          3.2           6.0          1.8          5.0   \n",
      "126           6.2          2.8           4.8          1.8          4.6   \n",
      "127           6.1          3.0           4.9          1.8          4.8   \n",
      "128           6.4          2.8           5.6          2.1          4.9   \n",
      "129           7.2          3.0           5.8          1.6          4.6   \n",
      "130           7.4          2.8           6.1          1.9          4.7   \n",
      "131           7.9          3.8           6.4          2.0          5.8   \n",
      "132           6.4          2.8           5.6          2.2          5.0   \n",
      "133           6.3          2.8           5.1          1.5          4.3   \n",
      "134           6.1          2.6           5.6          1.4          4.0   \n",
      "135           7.7          3.0           6.1          2.3          5.3   \n",
      "136           6.3          3.4           5.6          2.4          5.8   \n",
      "137           6.4          3.1           5.5          1.8          4.9   \n",
      "138           6.0          3.0           4.8          1.8          4.8   \n",
      "139           6.9          3.1           5.4          2.1          5.2   \n",
      "140           6.7          3.1           5.6          2.4          5.5   \n",
      "141           6.9          3.1           5.1          2.3          5.4   \n",
      "142           5.8          2.7           5.1          1.9          4.6   \n",
      "143           6.8          3.2           5.9          2.3          5.5   \n",
      "144           6.7          3.3           5.7          2.5          5.8   \n",
      "145           6.7          3.0           5.2          2.3          5.3   \n",
      "146           6.3          2.5           5.0          1.9          4.4   \n",
      "147           6.5          3.0           5.2          2.0          5.0   \n",
      "148           6.2          3.4           5.4          2.3          5.7   \n",
      "149           5.9          3.0           5.1          1.8          4.8   \n",
      "\n",
      "     total_length  \n",
      "0             6.5  \n",
      "1             6.3  \n",
      "2             6.0  \n",
      "3             6.1  \n",
      "4             6.4  \n",
      "5             7.1  \n",
      "6             6.0  \n",
      "7             6.5  \n",
      "8             5.8  \n",
      "9             6.4  \n",
      "10            6.9  \n",
      "11            6.4  \n",
      "12            6.2  \n",
      "13            5.4  \n",
      "14            7.0  \n",
      "15            7.2  \n",
      "16            6.7  \n",
      "17            6.5  \n",
      "18            7.4  \n",
      "19            6.6  \n",
      "20            7.1  \n",
      "21            6.6  \n",
      "22            5.6  \n",
      "23            6.8  \n",
      "24            6.7  \n",
      "25            6.6  \n",
      "26            6.6  \n",
      "27            6.7  \n",
      "28            6.6  \n",
      "29            6.3  \n",
      "..            ...  \n",
      "120          12.6  \n",
      "121          10.5  \n",
      "122          14.4  \n",
      "123          11.2  \n",
      "124          12.4  \n",
      "125          13.2  \n",
      "126          11.0  \n",
      "127          11.0  \n",
      "128          12.0  \n",
      "129          13.0  \n",
      "130          13.5  \n",
      "131          14.3  \n",
      "132          12.0  \n",
      "133          11.4  \n",
      "134          11.7  \n",
      "135          13.8  \n",
      "136          11.9  \n",
      "137          11.9  \n",
      "138          10.8  \n",
      "139          12.3  \n",
      "140          12.3  \n",
      "141          12.0  \n",
      "142          10.9  \n",
      "143          12.7  \n",
      "144          12.4  \n",
      "145          11.9  \n",
      "146          11.3  \n",
      "147          11.7  \n",
      "148          11.6  \n",
      "149          11.0  \n",
      "\n",
      "[150 rows x 6 columns]\n"
     ]
    }
   ],
   "source": [
    "# Your code here:\n",
    "\n",
    "def width(a):\n",
    "    return a['sepal_width'] + a['petal_width']\n",
    "\n",
    "def length(a):\n",
    "    return a['sepal_length'] + a['petal_length']\n",
    "\n",
    "iris_numeric['total_width'] = iris_numeric.apply(width, axis=1)\n",
    "iris_numeric['total_length'] = iris_numeric.apply(length, axis=1)\n",
    "\n",
    "print(iris_numeric)"
   ]
  },
  {
   "cell_type": "code",
   "execution_count": null,
   "metadata": {},
   "outputs": [],
   "source": []
  }
 ],
 "metadata": {
  "kernelspec": {
   "display_name": "Python 3",
   "language": "python",
   "name": "python3"
  },
  "language_info": {
   "codemirror_mode": {
    "name": "ipython",
    "version": 3
   },
   "file_extension": ".py",
   "mimetype": "text/x-python",
   "name": "python",
   "nbconvert_exporter": "python",
   "pygments_lexer": "ipython3",
   "version": "3.7.3"
  }
 },
 "nbformat": 4,
 "nbformat_minor": 2
}
