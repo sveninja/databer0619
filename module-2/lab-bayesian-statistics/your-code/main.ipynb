{
 "cells": [
  {
   "cell_type": "markdown",
   "metadata": {},
   "source": [
    "# Intro to Bayesian Statistics Lab\n",
    "\n",
    "Complete the following set of exercises to solidify your knowledge of Bayesian statistics and Bayesian data analysis."
   ]
  },
  {
   "cell_type": "code",
   "execution_count": 1,
   "metadata": {},
   "outputs": [],
   "source": [
    "import pandas as pd\n",
    "import numpy as np\n",
    "import matplotlib.pyplot as plt"
   ]
  },
  {
   "cell_type": "markdown",
   "metadata": {},
   "source": [
    "## 1. Cookie Problem\n",
    "\n",
    "Suppose we have two bowls of cookies. Bowl 1 contains 30 vanilla cookies and 10 chocolate cookies. Bowl 2 contains 20 of each. You randomly pick one cookie out of one of the bowls, and it is vanilla. Use Bayes Theorem to calculate the probability that the vanilla cookie you picked came from Bowl 1?"
   ]
  },
  {
   "cell_type": "code",
   "execution_count": null,
   "metadata": {},
   "outputs": [],
   "source": [
    "# J = Jar selection: 1,2\n",
    "# C = Cookie taste: vanilla, chocolate\n",
    "# P(J = # | C = vanilla)"
   ]
  },
  {
   "cell_type": "code",
   "execution_count": 8,
   "metadata": {},
   "outputs": [
    {
     "data": {
      "text/plain": [
       "0.6"
      ]
     },
     "execution_count": 8,
     "metadata": {},
     "output_type": "execute_result"
    }
   ],
   "source": [
    "# P(J=1, vanilla) = P(J=1) P(vanilla|J=1) / P(vanilla)\n",
    "# P(J=1) = 1/2\n",
    "# P(vanilla|J=1) = 30/40\n",
    "# P(vanilla) = 50/80\n",
    "\n",
    "# P(J=1|vanilla) = (P(J=1)*P(vanilla|J=1)) / P(vanilla)\n",
    "# P(J=1|vanilla) = 0.5 * (30/40) / (50/80)\n",
    "# P(J=1| vanilla)\n",
    "x = 0.5 * (30/40) / (50/80)\n",
    "x"
   ]
  },
  {
   "cell_type": "code",
   "execution_count": 9,
   "metadata": {},
   "outputs": [],
   "source": [
    "def bayes_rule(priors, likelihoods):\n",
    "    marg = sum(np.multiply(priors, likelihoods))\n",
    "    post = np.divide(np.multiply(priors, likelihoods), marg)\n",
    "    return post"
   ]
  },
  {
   "cell_type": "code",
   "execution_count": 10,
   "metadata": {},
   "outputs": [],
   "source": [
    "priors = [1/2, 1/2]\n",
    "likelihoods = [0.75, 0.5]"
   ]
  },
  {
   "cell_type": "code",
   "execution_count": 11,
   "metadata": {},
   "outputs": [
    {
     "data": {
      "text/plain": [
       "array([0.6, 0.4])"
      ]
     },
     "execution_count": 11,
     "metadata": {},
     "output_type": "execute_result"
    }
   ],
   "source": [
    "bayes_rule(priors, likelihoods)"
   ]
  },
  {
   "cell_type": "markdown",
   "metadata": {},
   "source": [
    "What is the probability that it came from Bowl 2?"
   ]
  },
  {
   "cell_type": "code",
   "execution_count": 12,
   "metadata": {},
   "outputs": [
    {
     "data": {
      "text/plain": [
       "array([0.6, 0.4])"
      ]
     },
     "execution_count": 12,
     "metadata": {},
     "output_type": "execute_result"
    }
   ],
   "source": [
    "bayes_rule(priors, likelihoods)\n",
    "# second number of array: likelyhood it came from bowl 2"
   ]
  },
  {
   "cell_type": "markdown",
   "metadata": {},
   "source": [
    "What if the cookie you had picked was chocolate? What are the probabilities that the chocolate cookie came from Bowl 1 and Bowl 2 respectively?"
   ]
  },
  {
   "cell_type": "code",
   "execution_count": 13,
   "metadata": {},
   "outputs": [
    {
     "data": {
      "text/plain": [
       "array([0.33333333, 0.66666667])"
      ]
     },
     "execution_count": 13,
     "metadata": {},
     "output_type": "execute_result"
    }
   ],
   "source": [
    "likelihoods_2 = [0.25, 0.5]\n",
    "bayes_rule(priors, likelihoods_2)"
   ]
  },
  {
   "cell_type": "markdown",
   "metadata": {},
   "source": [
    "## 2. Candy Problem\n",
    "\n",
    "Suppose you have two bags of candies:\n",
    "\n",
    "- In Bag 1, the mix of colors is:\n",
    "    - Brown - 30%\n",
    "    - Yellow - 20%\n",
    "    - Red - 20%\n",
    "    - Green - 10%\n",
    "    - Orange - 10%\n",
    "    - Tan - 10%\n",
    "    \n",
    "- In Bag 2, the mix of colors is:\n",
    "    - Blue - 24%\n",
    "    - Green - 20%\n",
    "    - Orange - 16%\n",
    "    - Yellow - 14%\n",
    "    - Red - 13%\n",
    "    - Brown - 13%\n",
    "    \n",
    "Not knowing which bag is which, you randomly draw one candy from each bag. One is yellow and one is green. What is the probability that the yellow one came from the Bag 1?\n",
    "\n",
    "*Hint: For the likelihoods, you will need to multiply the probabilities of drawing yellow from one bag and green from the other bag and vice versa.*"
   ]
  },
  {
   "cell_type": "code",
   "execution_count": 21,
   "metadata": {},
   "outputs": [],
   "source": [
    "# likelihoods_bag1 = [0.3, 0.2, 0.2, 0.1, 0.1, 0.1]\n",
    "# likelihoods_bag2 = [0.24, 0.2, 0.16, 0.14, 0.13, 0.13]\n",
    "# likelihood_green = [0.1, 0.2]\n",
    "# likelihood_yellow = [0.2, 0.14]\n",
    "\n",
    "likelihood_yellow1_green2 = (0.2*0.2)\n",
    "likelihood_green1_yellow2 = (0.1*0.14)\n",
    "likelihoods_candy = [likelihood_yellow1_green2, likelihood_green1_yellow2]\n",
    "\n",
    "priors = [1/2, 1/2]"
   ]
  },
  {
   "cell_type": "code",
   "execution_count": 22,
   "metadata": {},
   "outputs": [
    {
     "data": {
      "text/plain": [
       "array([0.74074074, 0.25925926])"
      ]
     },
     "execution_count": 22,
     "metadata": {},
     "output_type": "execute_result"
    }
   ],
   "source": [
    "bayes_rule(priors, likelihoods_candy)"
   ]
  },
  {
   "cell_type": "markdown",
   "metadata": {},
   "source": [
    "What is the probability that the yellow candy came from Bag 2?"
   ]
  },
  {
   "cell_type": "code",
   "execution_count": 25,
   "metadata": {},
   "outputs": [
    {
     "data": {
      "text/plain": [
       "array([0.58823529, 0.41176471])"
      ]
     },
     "execution_count": 25,
     "metadata": {},
     "output_type": "execute_result"
    }
   ],
   "source": [
    "likelihood_yellow1 = [0.2, 0.14]\n",
    "\n",
    "bayes_rule(priors, likelihood_yellow1)"
   ]
  },
  {
   "cell_type": "markdown",
   "metadata": {},
   "source": [
    "What are the probabilities that the green one came from Bag 1 and Bag 2 respectively?"
   ]
  },
  {
   "cell_type": "code",
   "execution_count": 27,
   "metadata": {},
   "outputs": [
    {
     "data": {
      "text/plain": [
       "array([0.33333333, 0.66666667])"
      ]
     },
     "execution_count": 27,
     "metadata": {},
     "output_type": "execute_result"
    }
   ],
   "source": [
    "likelihood_green = [0.1, 0.2]\n",
    "\n",
    "bayes_rule(priors, likelihood_green)"
   ]
  },
  {
   "cell_type": "markdown",
   "metadata": {},
   "source": [
    "## 3. Monty Hall Problem\n",
    "\n",
    "Suppose you are a contestant on the popular game show *Let's Make a Deal*. The host of the show (Monty Hall) presents you with three doors - Door A, Door B, and Door C. He tells you that there is a sports car behind one of them and if you choose the correct one, you win the car!\n",
    "\n",
    "You select Door A, but then Monty makes things a little more interesting. He opens Door B to reveal that there is no sports car behind it and asks you if you would like to stick with your choice of Door A or switch your choice to Door C. Given this new information, what are the probabilities of you winning the car if you stick with Door A versus if you switch to Door C?"
   ]
  },
  {
   "cell_type": "code",
   "execution_count": 37,
   "metadata": {},
   "outputs": [],
   "source": [
    "priors = [1/3, 1/3, 1/3]\n",
    "likelihood_car_initial = [1/3, 1/3, 1/3]\n",
    "likelihood_car_new = [1/2, 0, 1/2]"
   ]
  },
  {
   "cell_type": "code",
   "execution_count": 38,
   "metadata": {},
   "outputs": [
    {
     "data": {
      "text/plain": [
       "array([0.33333333, 0.33333333, 0.33333333])"
      ]
     },
     "execution_count": 38,
     "metadata": {},
     "output_type": "execute_result"
    }
   ],
   "source": [
    "bayes_rule(priors, likelihood_car_initial)"
   ]
  },
  {
   "cell_type": "code",
   "execution_count": 39,
   "metadata": {},
   "outputs": [
    {
     "data": {
      "text/plain": [
       "array([0.5, 0. , 0.5])"
      ]
     },
     "execution_count": 39,
     "metadata": {},
     "output_type": "execute_result"
    }
   ],
   "source": [
    "bayes_rule(priors, likelihood_car_new)"
   ]
  },
  {
   "cell_type": "code",
   "execution_count": null,
   "metadata": {},
   "outputs": [],
   "source": [
    "# Probability of winning with door A is 1/3, with switching to door C is 1/2."
   ]
  },
  {
   "cell_type": "markdown",
   "metadata": {},
   "source": [
    "## 4. Bayesian Analysis \n",
    "\n",
    "Suppose you work for a landscaping company, and they want to advertise their service online. They create an ad and sit back waiting for the money to roll in. On the first day, the ad sends 100 visitors to the site and 14 of them sign up for landscaping services. Create a generative model to come up with the posterior distribution and produce a visualization of what the posterior distribution would look like given the observed data."
   ]
  },
  {
   "cell_type": "code",
   "execution_count": null,
   "metadata": {},
   "outputs": [],
   "source": [
    "# 100 trials\n",
    "# 14 successes\n",
    "# prob of success q\n",
    "\n",
    "# P(q = q_i|S=14) =P(q=q_i)P(S=10|q=q_1)/P(S)\n",
    "# likelihood is B(14, 100, q_i)"
   ]
  },
  {
   "cell_type": "code",
   "execution_count": 58,
   "metadata": {},
   "outputs": [],
   "source": [
    "import scipy.stats"
   ]
  },
  {
   "cell_type": "code",
   "execution_count": 59,
   "metadata": {},
   "outputs": [
    {
     "data": {
      "text/plain": [
       "0     0.000000e+00\n",
       "1     2.573403e-08\n",
       "2     7.158322e-05\n",
       "3     3.417891e-03\n",
       "4     3.017576e-02\n",
       "5     1.036337e-01\n",
       "6     1.926161e-01\n",
       "7     2.308366e-01\n",
       "8     1.978535e-01\n",
       "9     1.295543e-01\n",
       "10    6.773360e-02\n",
       "11    2.915404e-02\n",
       "12    1.055776e-02\n",
       "13    3.267383e-03\n",
       "14    8.738813e-04\n",
       "15    2.035984e-04\n",
       "16    4.154431e-05\n",
       "17    7.449526e-06\n",
       "18    1.175867e-06\n",
       "19    1.634184e-07\n",
       "20    1.997527e-08\n",
       "21    2.142609e-09\n",
       "22    2.009801e-10\n",
       "23    1.641037e-11\n",
       "24    1.159605e-12\n",
       "dtype: float64"
      ]
     },
     "execution_count": 59,
     "metadata": {},
     "output_type": "execute_result"
    }
   ],
   "source": [
    "# parameters of the simulation\n",
    "total_visits = 100\n",
    "total_purchases = 14\n",
    "\n",
    "def bayes_rule(priors, likelihoods):\n",
    "    marg = sum(np.multiply(priors, likelihoods))\n",
    "    post = np.divide(np.multiply(priors, likelihoods), marg)\n",
    "    return post\n",
    "\n",
    "probability_samples = pd.Series(np.arange(0.0, 0.5, 0.02))\n",
    "prior = pd.Series(np.full_like(probability_samples, 1.0/len(probability_samples)))\n",
    "probability_samples = probability_samples.apply(lambda x: round(x,3))\n",
    "\n",
    "likelihoods = scipy.stats.binom.pmf(total_purchases, total_visits, probability_samples)\n",
    "posterior = bayes_rule(prior, likelihoods)\n",
    "\n",
    "posterior"
   ]
  },
  {
   "cell_type": "code",
   "execution_count": 60,
   "metadata": {
    "hideOutput": true
   },
   "outputs": [
    {
     "data": {
      "text/html": [
       "<div>\n",
       "<style scoped>\n",
       "    .dataframe tbody tr th:only-of-type {\n",
       "        vertical-align: middle;\n",
       "    }\n",
       "\n",
       "    .dataframe tbody tr th {\n",
       "        vertical-align: top;\n",
       "    }\n",
       "\n",
       "    .dataframe thead th {\n",
       "        text-align: right;\n",
       "    }\n",
       "</style>\n",
       "<table border=\"1\" class=\"dataframe\">\n",
       "  <thead>\n",
       "    <tr style=\"text-align: right;\">\n",
       "      <th></th>\n",
       "      <th>0</th>\n",
       "      <th>1</th>\n",
       "      <th>2</th>\n",
       "    </tr>\n",
       "  </thead>\n",
       "  <tbody>\n",
       "    <tr>\n",
       "      <th>0</th>\n",
       "      <td>0.00</td>\n",
       "      <td>0.04</td>\n",
       "      <td>0.000000e+00</td>\n",
       "    </tr>\n",
       "    <tr>\n",
       "      <th>1</th>\n",
       "      <td>0.02</td>\n",
       "      <td>0.04</td>\n",
       "      <td>2.573403e-08</td>\n",
       "    </tr>\n",
       "    <tr>\n",
       "      <th>2</th>\n",
       "      <td>0.04</td>\n",
       "      <td>0.04</td>\n",
       "      <td>7.158322e-05</td>\n",
       "    </tr>\n",
       "    <tr>\n",
       "      <th>3</th>\n",
       "      <td>0.06</td>\n",
       "      <td>0.04</td>\n",
       "      <td>3.417891e-03</td>\n",
       "    </tr>\n",
       "    <tr>\n",
       "      <th>4</th>\n",
       "      <td>0.08</td>\n",
       "      <td>0.04</td>\n",
       "      <td>3.017576e-02</td>\n",
       "    </tr>\n",
       "    <tr>\n",
       "      <th>5</th>\n",
       "      <td>0.10</td>\n",
       "      <td>0.04</td>\n",
       "      <td>1.036337e-01</td>\n",
       "    </tr>\n",
       "    <tr>\n",
       "      <th>6</th>\n",
       "      <td>0.12</td>\n",
       "      <td>0.04</td>\n",
       "      <td>1.926161e-01</td>\n",
       "    </tr>\n",
       "    <tr>\n",
       "      <th>7</th>\n",
       "      <td>0.14</td>\n",
       "      <td>0.04</td>\n",
       "      <td>2.308366e-01</td>\n",
       "    </tr>\n",
       "    <tr>\n",
       "      <th>8</th>\n",
       "      <td>0.16</td>\n",
       "      <td>0.04</td>\n",
       "      <td>1.978535e-01</td>\n",
       "    </tr>\n",
       "    <tr>\n",
       "      <th>9</th>\n",
       "      <td>0.18</td>\n",
       "      <td>0.04</td>\n",
       "      <td>1.295543e-01</td>\n",
       "    </tr>\n",
       "    <tr>\n",
       "      <th>10</th>\n",
       "      <td>0.20</td>\n",
       "      <td>0.04</td>\n",
       "      <td>6.773360e-02</td>\n",
       "    </tr>\n",
       "    <tr>\n",
       "      <th>11</th>\n",
       "      <td>0.22</td>\n",
       "      <td>0.04</td>\n",
       "      <td>2.915404e-02</td>\n",
       "    </tr>\n",
       "    <tr>\n",
       "      <th>12</th>\n",
       "      <td>0.24</td>\n",
       "      <td>0.04</td>\n",
       "      <td>1.055776e-02</td>\n",
       "    </tr>\n",
       "    <tr>\n",
       "      <th>13</th>\n",
       "      <td>0.26</td>\n",
       "      <td>0.04</td>\n",
       "      <td>3.267383e-03</td>\n",
       "    </tr>\n",
       "    <tr>\n",
       "      <th>14</th>\n",
       "      <td>0.28</td>\n",
       "      <td>0.04</td>\n",
       "      <td>8.738813e-04</td>\n",
       "    </tr>\n",
       "    <tr>\n",
       "      <th>15</th>\n",
       "      <td>0.30</td>\n",
       "      <td>0.04</td>\n",
       "      <td>2.035984e-04</td>\n",
       "    </tr>\n",
       "    <tr>\n",
       "      <th>16</th>\n",
       "      <td>0.32</td>\n",
       "      <td>0.04</td>\n",
       "      <td>4.154431e-05</td>\n",
       "    </tr>\n",
       "    <tr>\n",
       "      <th>17</th>\n",
       "      <td>0.34</td>\n",
       "      <td>0.04</td>\n",
       "      <td>7.449526e-06</td>\n",
       "    </tr>\n",
       "    <tr>\n",
       "      <th>18</th>\n",
       "      <td>0.36</td>\n",
       "      <td>0.04</td>\n",
       "      <td>1.175867e-06</td>\n",
       "    </tr>\n",
       "    <tr>\n",
       "      <th>19</th>\n",
       "      <td>0.38</td>\n",
       "      <td>0.04</td>\n",
       "      <td>1.634184e-07</td>\n",
       "    </tr>\n",
       "    <tr>\n",
       "      <th>20</th>\n",
       "      <td>0.40</td>\n",
       "      <td>0.04</td>\n",
       "      <td>1.997527e-08</td>\n",
       "    </tr>\n",
       "    <tr>\n",
       "      <th>21</th>\n",
       "      <td>0.42</td>\n",
       "      <td>0.04</td>\n",
       "      <td>2.142609e-09</td>\n",
       "    </tr>\n",
       "    <tr>\n",
       "      <th>22</th>\n",
       "      <td>0.44</td>\n",
       "      <td>0.04</td>\n",
       "      <td>2.009801e-10</td>\n",
       "    </tr>\n",
       "    <tr>\n",
       "      <th>23</th>\n",
       "      <td>0.46</td>\n",
       "      <td>0.04</td>\n",
       "      <td>1.641037e-11</td>\n",
       "    </tr>\n",
       "    <tr>\n",
       "      <th>24</th>\n",
       "      <td>0.48</td>\n",
       "      <td>0.04</td>\n",
       "      <td>1.159605e-12</td>\n",
       "    </tr>\n",
       "  </tbody>\n",
       "</table>\n",
       "</div>"
      ],
      "text/plain": [
       "       0     1             2\n",
       "0   0.00  0.04  0.000000e+00\n",
       "1   0.02  0.04  2.573403e-08\n",
       "2   0.04  0.04  7.158322e-05\n",
       "3   0.06  0.04  3.417891e-03\n",
       "4   0.08  0.04  3.017576e-02\n",
       "5   0.10  0.04  1.036337e-01\n",
       "6   0.12  0.04  1.926161e-01\n",
       "7   0.14  0.04  2.308366e-01\n",
       "8   0.16  0.04  1.978535e-01\n",
       "9   0.18  0.04  1.295543e-01\n",
       "10  0.20  0.04  6.773360e-02\n",
       "11  0.22  0.04  2.915404e-02\n",
       "12  0.24  0.04  1.055776e-02\n",
       "13  0.26  0.04  3.267383e-03\n",
       "14  0.28  0.04  8.738813e-04\n",
       "15  0.30  0.04  2.035984e-04\n",
       "16  0.32  0.04  4.154431e-05\n",
       "17  0.34  0.04  7.449526e-06\n",
       "18  0.36  0.04  1.175867e-06\n",
       "19  0.38  0.04  1.634184e-07\n",
       "20  0.40  0.04  1.997527e-08\n",
       "21  0.42  0.04  2.142609e-09\n",
       "22  0.44  0.04  2.009801e-10\n",
       "23  0.46  0.04  1.641037e-11\n",
       "24  0.48  0.04  1.159605e-12"
      ]
     },
     "execution_count": 60,
     "metadata": {},
     "output_type": "execute_result"
    }
   ],
   "source": [
    "df_all_cols = pd.concat([probability_samples, prior, posterior], axis = 1)\n",
    "df_all_cols"
   ]
  },
  {
   "cell_type": "code",
   "execution_count": 61,
   "metadata": {},
   "outputs": [
    {
     "data": {
      "image/png": "[encoded data removed]",
      "text/plain": [
       "<Figure size 432x288 with 1 Axes>"
      ]
     },
     "metadata": {
      "needs_background": "light"
     },
     "output_type": "display_data"
    }
   ],
   "source": [
    "ax = df_all_cols.plot(kind='bar', x = 0, y =2)\n",
    "ax.set_xlabel(\"Probability sample\")\n",
    "ax.set_ylabel(\"Probability\")\n",
    "\n",
    "plt.show()"
   ]
  },
  {
   "cell_type": "markdown",
   "metadata": {},
   "source": [
    "Produce a set of descriptive statistics for the posterior distribution."
   ]
  },
  {
   "cell_type": "code",
   "execution_count": 62,
   "metadata": {},
   "outputs": [
    {
     "data": {
      "text/plain": [
       "count    2.500000e+01\n",
       "mean     4.000000e-02\n",
       "std      7.174601e-02\n",
       "min      0.000000e+00\n",
       "25%      2.573403e-08\n",
       "50%      2.035984e-04\n",
       "75%      3.017576e-02\n",
       "max      2.308366e-01\n",
       "dtype: float64"
      ]
     },
     "execution_count": 62,
     "metadata": {},
     "output_type": "execute_result"
    }
   ],
   "source": [
    "posterior.describe()"
   ]
  },
  {
   "cell_type": "markdown",
   "metadata": {},
   "source": [
    "What is the 90% credible interval range?"
   ]
  },
  {
   "cell_type": "code",
   "execution_count": 51,
   "metadata": {},
   "outputs": [
    {
     "name": "stdout",
     "output_type": "stream",
     "text": [
      "4.2097577305945496e-12 | 0.19680599583756608\n"
     ]
    }
   ],
   "source": [
    "confidence = 0.9\n",
    "print(posterior.quantile(.05), \"|\", posterior.quantile(.95))"
   ]
  },
  {
   "cell_type": "markdown",
   "metadata": {},
   "source": [
    "What is the Maximum Likelihood Estimate?"
   ]
  },
  {
   "cell_type": "code",
   "execution_count": 55,
   "metadata": {},
   "outputs": [
    {
     "data": {
      "text/plain": [
       "0     0.000\n",
       "1     0.000\n",
       "2     0.000\n",
       "3     0.003\n",
       "4     0.030\n",
       "5     0.104\n",
       "6     0.193\n",
       "7     0.231\n",
       "8     0.198\n",
       "9     0.130\n",
       "10    0.068\n",
       "11    0.029\n",
       "12    0.011\n",
       "13    0.003\n",
       "14    0.001\n",
       "15    0.000\n",
       "16    0.000\n",
       "17    0.000\n",
       "18    0.000\n",
       "19    0.000\n",
       "20    0.000\n",
       "21    0.000\n",
       "22    0.000\n",
       "23    0.000\n",
       "24    0.000\n",
       "dtype: float64"
      ]
     },
     "execution_count": 55,
     "metadata": {},
     "output_type": "execute_result"
    }
   ],
   "source": [
    "posterior.max()"
   ]
  },
  {
   "cell_type": "code",
   "execution_count": 70,
   "metadata": {},
   "outputs": [
    {
     "data": {
      "text/plain": [
       "0.14"
      ]
     },
     "execution_count": 70,
     "metadata": {},
     "output_type": "execute_result"
    }
   ],
   "source": [
    "index_col = df_all_cols[2].idxmax()\n",
    "df_all_cols.iloc[index_col, 0]"
   ]
  },
  {
   "cell_type": "code",
   "execution_count": null,
   "metadata": {},
   "outputs": [],
   "source": []
  }
 ],
 "metadata": {
  "kernelspec": {
   "display_name": "Python 3",
   "language": "python",
   "name": "python3"
  },
  "language_info": {
   "codemirror_mode": {
    "name": "ipython",
    "version": 3
   },
   "file_extension": ".py",
   "mimetype": "text/x-python",
   "name": "python",
   "nbconvert_exporter": "python",
   "pygments_lexer": "ipython3",
   "version": "3.7.3"
  }
 },
 "nbformat": 4,
 "nbformat_minor": 2
}
